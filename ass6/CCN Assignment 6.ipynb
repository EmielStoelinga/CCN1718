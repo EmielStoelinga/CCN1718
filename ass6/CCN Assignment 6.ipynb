{
 "cells": [
  {
   "cell_type": "markdown",
   "metadata": {},
   "source": [
    "# CCN Assignment 6: Generative\tAdversarial\tNetworks"
   ]
  },
  {
   "cell_type": "code",
   "execution_count": 1,
   "metadata": {
    "collapsed": true
   },
   "outputs": [],
   "source": [
    "%matplotlib inline\n",
    "\n",
    "import numpy as np\n",
    "import chainer\n",
    "from chainer import cuda, Function, gradient_check, report, training, utils, Variable\n",
    "from chainer import datasets, iterators, optimizers, serializers\n",
    "from chainer import Link, Chain, ChainList\n",
    "import chainer.functions as F\n",
    "import chainer.links as L\n",
    "from chainer.training import extensions\n",
    "from chainer.dataset import concat_examples\n",
    "from chainer.datasets import TupleDataset\n",
    "from chainer.functions.evaluation import accuracy\n",
    "from chainer.functions.loss import softmax_cross_entropy\n",
    "from chainer import link\n",
    "from chainer import reporter\n",
    "\n",
    "import matplotlib.pyplot as plt"
   ]
  },
  {
   "cell_type": "code",
   "execution_count": 4,
   "metadata": {
    "collapsed": true
   },
   "outputs": [],
   "source": [
    "# make loss function such that loss if high when discriminator \n",
    "# classifies generator network output as fake 0, and\n",
    "# low when generator network output as being a real 0\n",
    "\n",
    "class Generator(Chain):\n",
    "    def __init__(self):\n",
    "        super(Generator, self).__init__()\n",
    "        with self.init_scope():\n",
    "            self.l1 = L.Linear(None, 784)\n",
    "            self.batch_norm = L.BatchNormalization(5)\n",
    "            self.deconv = L.Deconvolution2D(None, (28, 28))\n",
    "            \n",
    "    def __call__(self, x):\n",
    "        h1 = F.relu(self.l1(x))\n",
    "        h2 = self.batch_norm(h1)\n",
    "        y = self.deconv(h2)\n",
    "        return y"
   ]
  },
  {
   "cell_type": "code",
   "execution_count": 5,
   "metadata": {
    "collapsed": true
   },
   "outputs": [],
   "source": [
    "class Discriminator(Chain):\n",
    "    def __init__(self):\n",
    "        super(Discriminator, self).__init__()\n",
    "        with self.init_scope():\n",
    "            self.conv = L.Convolution2D(None, out_channels=5, ksize=5, stride=1, pad=0)\n",
    "            self.fc1 = L.Linear(None, n_out)\n",
    "            \n",
    "        def __call__(self, x):\n",
    "            h1 = self.conv1(x)\n",
    "            h2 = F.max_pooling_2d(h1, ksize=5, stride=1, pad=0) # Max pooling layer\n",
    "            y = self.fc1(h2)\n",
    "            return y"
   ]
  },
  {
   "cell_type": "code",
   "execution_count": null,
   "metadata": {
    "collapsed": true
   },
   "outputs": [],
   "source": [
    "# generate the data\n",
    "train_data, test_data = get_mnist(n_train=1000, n_test=100, with_label=False, classes = [0])"
   ]
  }
 ],
 "metadata": {
  "kernelspec": {
   "display_name": "Python [Root]",
   "language": "python",
   "name": "Python [Root]"
  },
  "language_info": {
   "codemirror_mode": {
    "name": "ipython",
    "version": 2
   },
   "file_extension": ".py",
   "mimetype": "text/x-python",
   "name": "python",
   "nbconvert_exporter": "python",
   "pygments_lexer": "ipython2",
   "version": "2.7.12"
  }
 },
 "nbformat": 4,
 "nbformat_minor": 0
}
