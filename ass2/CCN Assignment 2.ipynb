{
 "cells": [
  {
   "cell_type": "markdown",
   "metadata": {},
   "source": [
    "# Computational Cognitive Neuroscience: assignment 2\n",
    "\n",
    "By: \n",
    "Emiel Stoelinga, s4837584 & Luca Parolo, s1009497"
   ]
  },
  {
   "cell_type": "markdown",
   "metadata": {},
   "source": [
    "First the required libraries are imported."
   ]
  },
  {
   "cell_type": "code",
   "execution_count": 1,
   "metadata": {
    "collapsed": true
   },
   "outputs": [],
   "source": [
    "%matplotlib inline\n",
    "\n",
    "import numpy as np\n",
    "import chainer\n",
    "from chainer import cuda, Function, gradient_check, report, training, utils, Variable\n",
    "from chainer import datasets, iterators, optimizers, serializers\n",
    "from chainer import Link, Chain, ChainList\n",
    "import chainer.functions as F\n",
    "import chainer.links as L\n",
    "from chainer.training import extensions\n",
    "from chainer.dataset import concat_examples\n",
    "\n",
    "from utils import get_mnist\n",
    "\n",
    "import matplotlib.pyplot as plt"
   ]
  },
  {
   "cell_type": "markdown",
   "metadata": {},
   "source": [
    "We define the architecture of a neural network with one layer"
   ]
  },
  {
   "cell_type": "code",
   "execution_count": 2,
   "metadata": {
    "collapsed": true
   },
   "outputs": [],
   "source": [
    "class NN1(Chain):\n",
    "    def __init__(self, n_units, n_out):\n",
    "        super(NN1, self).__init__()\n",
    "        with self.init_scope():\n",
    "            self.l1 = L.Linear(None, n_units) ##from the original MLP deleted the hidden layer. Now only input-output.\n",
    "            \n",
    "            self.l2 = L.Linear(None, n_out)\n",
    "\n",
    "    def __call__(self, x):\n",
    "        h1 = F.relu(self.l1(x)) ##from the original MLP, deleted one line,the outcome of the activation function is directly \n",
    "        y = self.l2(h1)         ##passed to the output layer without further computation ( as there is no hidden layer now)\n",
    "        return y"
   ]
  },
  {
   "cell_type": "markdown",
   "metadata": {
    "collapsed": true
   },
   "source": [
    "We define the architecture of a neural network with two layer, which is a Multilayer Perceptron"
   ]
  },
  {
   "cell_type": "code",
   "execution_count": 3,
   "metadata": {
    "collapsed": true
   },
   "outputs": [],
   "source": [
    "class NN2(Chain):\n",
    "    def __init__(self, n_units, n_out):\n",
    "        super(NN2, self).__init__()\n",
    "        with self.init_scope():\n",
    "            self.l1 = L.Linear(None, n_units)\n",
    "            self.l2 = L.Linear(None, n_units)\n",
    "            self.l3 = L.Linear(None, n_out)\n",
    "\n",
    "    def __call__(self, x):\n",
    "        h1 = F.relu(self.l1(x))\n",
    "        h2 = F.relu(self.l2(h1))\n",
    "        y = self.l3(h2)\n",
    "        return y"
   ]
  },
  {
   "cell_type": "markdown",
   "metadata": {},
   "source": [
    "We define the architecture of a neural network with three layer"
   ]
  },
  {
   "cell_type": "code",
   "execution_count": 4,
   "metadata": {
    "collapsed": true
   },
   "outputs": [],
   "source": [
    "class NN3(Chain):\n",
    "    def __init__(self, n_units, n_out):\n",
    "        super(NN3, self).__init__()\n",
    "        with self.init_scope():\n",
    "            self.l1 = L.Linear(None, n_units) ##from the original MLP added one hidden layer\n",
    "            self.l2 = L.Linear(None, n_units)\n",
    "            self.l3 = L.Linear(None, n_units)\n",
    "            self.l4 = L.Linear(None, n_out)\n",
    "\n",
    "    def __call__(self, x):\n",
    "        h1 = F.relu(self.l1(x))  \n",
    "        h2 = F.relu(self.l2(h1))   \n",
    "        h3 = F.relu(self.l3(h2))\n",
    "        y = self.l4(h3)         \n",
    "        return y"
   ]
  },
  {
   "cell_type": "markdown",
   "metadata": {},
   "source": [
    "We build a training function and we store the training loss and the validation losses for each epoch, which we will plot later to compare the three different architecures."
   ]
  },
  {
   "cell_type": "code",
   "execution_count": 5,
   "metadata": {
    "collapsed": true
   },
   "outputs": [],
   "source": [
    "def run(train_iter, val_iter, test_data, model, optimizer, max_epoch):\n",
    "    training_losses = []\n",
    "    validation_losses = []\n",
    "    \n",
    "    mini_batch_losses = []\n",
    "\n",
    "    while train_iter.epoch < max_epoch:\n",
    "        # Get next mini-batch\n",
    "        batch = train_iter.next()\n",
    "        image_train, target_train = concat_examples(batch)\n",
    "\n",
    "        # Prediction\n",
    "        prediction_train = model(image_train)\n",
    "\n",
    "        # Compute loss\n",
    "        loss = F.softmax_cross_entropy(prediction_train, target_train)\n",
    "        mini_batch_losses.append(loss.data)\n",
    "\n",
    "        # Compute gradients\n",
    "        model.cleargrads()\n",
    "        loss.backward()\n",
    "\n",
    "        # Update variables\n",
    "        optimizer.update()\n",
    "\n",
    "        # Check the validation accuracy of prediction after every epoch\n",
    "        if train_iter.is_new_epoch:  # If this iteration is the final iteration of the current epoch\n",
    "\n",
    "            # Save the training loss\n",
    "            training_losses.append(np.mean(mini_batch_losses))\n",
    "            mini_batch_losses = []\n",
    "\n",
    "            val_losses = []\n",
    "            val_accuracies = []\n",
    "            while True:\n",
    "                val_batch = val_iter.next()\n",
    "                image_val, target_val = concat_examples(val_batch)\n",
    "\n",
    "                # Forward the validation data\n",
    "                prediction_val = model(image_val)\n",
    "\n",
    "                # Calculate the loss\n",
    "                loss_val = F.softmax_cross_entropy(prediction_val, target_val)\n",
    "                val_losses.append(loss_val.data)\n",
    "\n",
    "                # Calculate the accuracy\n",
    "                accuracy = F.accuracy(prediction_val, target_val)\n",
    "                val_accuracies.append(accuracy.data)\n",
    "\n",
    "                if val_iter.is_new_epoch:\n",
    "                    val_iter.epoch = 0\n",
    "                    val_iter.current_position = 0\n",
    "                    val_iter.is_new_epoch = False\n",
    "                    val_iter._pushed_position = None\n",
    "\n",
    "                    validation_losses.append(np.mean(val_losses))\n",
    "                    break\n",
    "\n",
    "    # Predict full test set\n",
    "    image_test, target_test = concat_examples(test_data)\n",
    "    # Forward test data\n",
    "    prediction_test = model(image_test)\n",
    "    # Calculate loss and accuracy\n",
    "    loss_test = F.softmax_cross_entropy(prediction_test, target_test)\n",
    "    accuracy_test = F.accuracy(prediction_test, target_test)\n",
    "\n",
    "    print('test_loss: ' + str(loss_test.data) + ' test_accuracy: ' + str(accuracy_test.data))\n",
    "    return training_losses, validation_losses"
   ]
  },
  {
   "cell_type": "markdown",
   "metadata": {},
   "source": [
    "Then in our main function we define three different Neural Network( NN1,NN2,NN3), each with 10 neurons per layer (input, hidden or output). We train each of the NN ,with the MNIST dataset for 20 epoch. Lastly we plot the training loss and the validation loss for each epoch for each NN to compare their efficacy. "
   ]
  },
  {
   "cell_type": "code",
   "execution_count": 8,
   "metadata": {
    "collapsed": false
   },
   "outputs": [
    {
     "name": "stdout",
     "output_type": "stream",
     "text": [
      "test_loss: 0.997719466686 test_accuracy: 0.73400002718\n",
      "test_loss: 1.47286355495 test_accuracy: 0.504000008106\n",
      "test_loss: 1.68428087234 test_accuracy: 0.418999999762\n"
     ]
    },
    {
     "data": {
      "image/png": "[encoded data removed]",
      "text/plain": [
       "<matplotlib.figure.Figure at 0x7f58cc8cb450>"
      ]
     },
     "metadata": {},
     "output_type": "display_data"
    }
   ],
   "source": [
    "def main():\n",
    "    # Load data\n",
    "    train, test = get_mnist()\n",
    "    \n",
    "    # Initialize iterators\n",
    "    train_iter = iterators.SerialIterator(train, batch_size=32, shuffle=True)\n",
    "    val_iter = iterators.SerialIterator(test, batch_size=100, repeat=False, shuffle=False)\n",
    "\n",
    "    # Define model NN1\n",
    "    model = NN1(10, 10) ##10 neurons per layer\n",
    "    optimizer = optimizers.SGD()\n",
    "    optimizer.setup(model)\n",
    "\n",
    "    plt.figure(figsize=(15,10))\n",
    "    \n",
    "    training_losses, validation_losses = run(train_iter, val_iter, test, model, optimizer, 20) ##Max Epoch 20\n",
    "    \n",
    "    plt.plot(training_losses, label='Training loss N=1')\n",
    "    plt.plot(validation_losses, label='Validation loss N=1')\n",
    "    plt.legend()\n",
    "    \n",
    "    train_iter = iterators.SerialIterator(train, batch_size=32, shuffle=True)\n",
    "    val_iter = iterators.SerialIterator(test, batch_size=100, repeat=False, shuffle=False)\n",
    "\n",
    "    # Define model NN2 \n",
    "    model = NN2(10, 10) ##10 neurons per layer\n",
    "    optimizer = optimizers.SGD()\n",
    "    optimizer.setup(model)\n",
    "\n",
    "    training_losses, validation_losses = run(train_iter, val_iter, test, model, optimizer, 20) ##Max Epoch 20\n",
    "    \n",
    "    plt.plot(training_losses, label='Training loss N=2')\n",
    "    plt.plot(validation_losses, label='Validation loss N=2')\n",
    "    plt.legend()\n",
    "    \n",
    "    train_iter = iterators.SerialIterator(train, batch_size=32, shuffle=True)\n",
    "    val_iter = iterators.SerialIterator(test, batch_size=100, repeat=False, shuffle=False)\n",
    "\n",
    "    # Define model NN3\n",
    "    model = NN3(10, 10) ##10 neurons per layer\n",
    "    optimizer = optimizers.SGD()\n",
    "    optimizer.setup(model)\n",
    "\n",
    "    training_losses, validation_losses = run(train_iter, val_iter, test, model, optimizer, 20) ##Max Epoch 20\n",
    "    \n",
    "    \n",
    "    plt.plot(training_losses, label='Training loss N=3')\n",
    "    plt.plot(validation_losses, label='Validation loss N=3')\n",
    "    plt.legend()\n",
    "\n",
    "if __name__ == \"__main__\":\n",
    "    main()"
   ]
  },
  {
   "cell_type": "markdown",
   "metadata": {
    "collapsed": true
   },
   "source": [
    "As we see, all three NNs improve their performance epoch after epoch. The best performing NN is the network without a hidden layer. The second best network is the network with 1 hidden layer, followed by the network with 2 hidden layers performing worst.\n",
    "\n",
    "Networks with a higher amount of hidden layers might need more time to train, for more weights have to be adjusted in order to succesfully predict the output. This might be the reason why the network with the lowest amount of hidden layers performs best after only 20 epochs."
   ]
  },
  {
   "cell_type": "markdown",
   "metadata": {},
   "source": [
    "## Question 2"
   ]
  },
  {
   "cell_type": "markdown",
   "metadata": {},
   "source": [
    "A small convolutional network consisiting of one convolutional layer, a max pooling layer and a fully connected layer should be constructed and should be trained on the MNIST dataset.\n",
    "\n",
    "First, a class is constructed which represents the network."
   ]
  },
  {
   "cell_type": "code",
   "execution_count": 9,
   "metadata": {
    "collapsed": true
   },
   "outputs": [],
   "source": [
    "class SmallConv(Chain):\n",
    "    def __init__(self, n_out):\n",
    "        super(SmallConv, self).__init__()\n",
    "        with self.init_scope():\n",
    "            self.conv1 = L.Convolution2D(None, out_channels=5, ksize=5, stride=1, pad=0) # Convolutional layer\n",
    "            self.fc1 = L.Linear(None, n_out) # Fully connected layer\n",
    "\n",
    "    def __call__(self, x):\n",
    "        h1 = self.conv1(x)\n",
    "        h2 = F.max_pooling_2d(h1, ksize=5, stride=1, pad=0) # Max pooling layer\n",
    "        y = self.fc1(h2)\n",
    "        return y"
   ]
  },
  {
   "cell_type": "markdown",
   "metadata": {},
   "source": [
    "In order to train the network, a training function is built. For every epoch, the function forwards a new mini-batch through the network, computes the loss and backwards the loss through the network such that variables can be updated. Furthermore, the network is evaluated by forwarding the test set of 100 images through it.\n",
    "\n",
    "For both operations, the loss is printed and stored, such that it can be plotted after training. "
   ]
  },
  {
   "cell_type": "code",
   "execution_count": 10,
   "metadata": {
    "collapsed": true
   },
   "outputs": [],
   "source": [
    "def run(train_iter, val_iter, test_data, model, optimizer, max_epoch):\n",
    "    training_losses = []\n",
    "    validation_losses = []\n",
    "    \n",
    "    mini_batch_losses = []\n",
    "\n",
    "    while train_iter.epoch < max_epoch:\n",
    "        # Get next mini-batch\n",
    "        batch = train_iter.next()\n",
    "        image_train, target_train = concat_examples(batch)\n",
    "\n",
    "        # Prediction\n",
    "        prediction_train = model(image_train)\n",
    "\n",
    "        # Compute loss\n",
    "        loss = F.softmax_cross_entropy(prediction_train, target_train)\n",
    "        mini_batch_losses.append(loss.data)\n",
    "\n",
    "        # Compute gradients\n",
    "        model.cleargrads()\n",
    "        loss.backward()\n",
    "\n",
    "        # Update variables\n",
    "        optimizer.update()\n",
    "\n",
    "        # Check the validation accuracy of prediction after every epoch\n",
    "        if train_iter.is_new_epoch:  # If this iteration is the final iteration of the current epoch\n",
    "\n",
    "            # Save the training loss\n",
    "            training_losses.append(np.mean(mini_batch_losses))\n",
    "            mini_batch_losses = []\n",
    "\n",
    "            val_losses = []\n",
    "            val_accuracies = []\n",
    "            while True:\n",
    "                val_batch = val_iter.next()\n",
    "                image_val, target_val = concat_examples(val_batch)\n",
    "\n",
    "                # Forward the validation data\n",
    "                prediction_val = model(image_val)\n",
    "\n",
    "                # Calculate the loss\n",
    "                loss_val = F.softmax_cross_entropy(prediction_val, target_val)\n",
    "                val_losses.append(loss_val.data)\n",
    "\n",
    "                # Calculate the accuracy\n",
    "                accuracy = F.accuracy(prediction_val, target_val)\n",
    "                val_accuracies.append(accuracy.data)\n",
    "\n",
    "                if val_iter.is_new_epoch:\n",
    "                    val_iter.epoch = 0\n",
    "                    val_iter.current_position = 0\n",
    "                    val_iter.is_new_epoch = False\n",
    "                    val_iter._pushed_position = None\n",
    "\n",
    "                    validation_losses.append(np.mean(val_losses))\n",
    "                    break\n",
    "\n",
    "    # Predict full test set\n",
    "    image_test, target_test = concat_examples(test_data)\n",
    "    # Forward test data\n",
    "    prediction_test = model(image_test)\n",
    "    # Calculate loss and accuracy\n",
    "    loss_test = F.softmax_cross_entropy(prediction_test, target_test)\n",
    "    accuracy_test = F.accuracy(prediction_test, target_test)\n",
    "\n",
    "    print('test_loss: ' + str(loss_test.data) + ' test_accuracy: ' + str(accuracy_test.data))\n",
    "    return training_losses, validation_losses"
   ]
  },
  {
   "cell_type": "markdown",
   "metadata": {},
   "source": [
    "The full proces is run in the main function. First, the data is downloaded. Then, iterators are constructed which iterate over the data for every epoch. Then the model and the optimizer are constructed and last, the model is trained. "
   ]
  },
  {
   "cell_type": "code",
   "execution_count": 11,
   "metadata": {
    "collapsed": false
   },
   "outputs": [
    {
     "name": "stdout",
     "output_type": "stream",
     "text": [
      "test_loss: 0.285519599915 test_accuracy: 0.908999979496\n"
     ]
    },
    {
     "data": {
      "image/png": "[encoded data removed]",
      "text/plain": [
       "<matplotlib.figure.Figure at 0x7f590d2bf550>"
      ]
     },
     "metadata": {},
     "output_type": "display_data"
    }
   ],
   "source": [
    "def main():\n",
    "    # Load data\n",
    "    train, test = get_mnist(n_dim=3)\n",
    "    \n",
    "    # Initialize iterators\n",
    "    train_iter = iterators.SerialIterator(train, batch_size=32, shuffle=True)\n",
    "    val_iter = iterators.SerialIterator(test, batch_size=100, repeat=False, shuffle=False)\n",
    "\n",
    "    # Define model\n",
    "    model = SmallConv(10)\n",
    "    optimizer = optimizers.SGD()\n",
    "    optimizer.setup(model)\n",
    "\n",
    "    training_losses, validation_losses = run(train_iter, val_iter, test, model, optimizer, 20)\n",
    "    \n",
    "    plt.plot(training_losses, label='Training loss')\n",
    "    plt.plot(validation_losses, label='Validation loss')\n",
    "    plt.legend()\n",
    "\n",
    "if __name__ == \"__main__\":\n",
    "    main()"
   ]
  },
  {
   "cell_type": "markdown",
   "metadata": {},
   "source": [
    "### Results\n",
    "As can be seen, the loss both on the training sets and on the validation sets clearly lowers as the amount of epochs increases. This indicates that the network is actually learning. Furthermore, the final prediction accuracy is 90.9%, which is clearly higher than the final prediction accuracy for the MLP of 50.4%. A convolutional network therefore seems to be a better solution to this particular problem of classifying images."
   ]
  },
  {
   "cell_type": "markdown",
   "metadata": {},
   "source": [
    "## Question 3"
   ]
  },
  {
   "cell_type": "markdown",
   "metadata": {},
   "source": [
    "The main idea behind convolution networks is to use a set of features map to represent data with higher level of complexity. For example, in an image, the convnet looks for a specific feature at different location of the image; to represent the complexity of the features of the image we use more than one feature map. This way of pattern extraction from images has its theoretical basis in human and primates visual system. In the '50 Hubel and Wiesel [1]  discovered that certain neurons ( later called \"simple cells\")in the visual cortex of cats fired when the stimulus presented was a line at a certain angle, while others fired when the line presented was at a different angle. On the other hand, other neurons ( later called \"complex cells\") of the visual system could detect edges despite their different location on the receptive field of the neuron. The way the visual system extract information from a stimulus , its also due to its hierarchical architecure. In fact according to Hubel and Wiesel , the responses from complex cells , are generated from the summation of responses of multiple simple cells in the initial areas of visual cortex (the higher in the computational chain of neurons in the visual cortex, the more the features extracted by simple cells are integrated in the image of the stimulus): a series of simple and complex cells is called a gnostic unit.\n",
    "As we see the convnets architecture has many similarities with our visual system. It has:\n",
    "- Multiple layers which are hierachically structured for features extraction.\n",
    "- Local receptive field ( a neuron is sensible to a certain area of the image/visual field)\n",
    "- Spatial invariance\n",
    "To sum up, convolutional networks are hierachical, beacause the world, or at least the way we interpret it, is compositional, and this seemed a good way to build a machine which can interpret a visual stimulus.\n",
    "\n",
    "On the other hand, convolutional neural networks works in ways that have yet to be seen in human visual system.\n",
    "The computational models ( the way the system works) are differents. Convolution operation, shared weights or pooling have their meaning in the architecture of convolutional networks, but may not be the case for biological visual system. \n",
    "This may look obvious: human brain is made of living cells, its the outcome of 3 billions of evolution of life and has billions of synaptic connections. Therefore convnets are a mere mathematical approximation of a complex computational system, embedded in a biological machine, the human body.\n",
    "\n",
    "As stated by Lecun, \"the [biological] neural inspiration in models like convolutional nets is very tenuous. That's why I call them 'convolutional nets' not 'convolutional neural nets', and why we call the nodes 'units' and not 'neurons' \".\n",
    "\n",
    "\n",
    "[1] \"Receptive fields, binocular interaction and functional architecture in the cat's visual cortex\" D. H. Hubel and T. N. Wiesel, 1962"
   ]
  },
  {
   "cell_type": "code",
   "execution_count": null,
   "metadata": {
    "collapsed": true,
    "scrolled": true
   },
   "outputs": [],
   "source": []
  },
  {
   "cell_type": "code",
   "execution_count": null,
   "metadata": {
    "collapsed": true
   },
   "outputs": [],
   "source": []
  },
  {
   "cell_type": "code",
   "execution_count": null,
   "metadata": {
    "collapsed": true
   },
   "outputs": [],
   "source": []
  },
  {
   "cell_type": "code",
   "execution_count": null,
   "metadata": {
    "collapsed": true
   },
   "outputs": [],
   "source": []
  },
  {
   "cell_type": "code",
   "execution_count": null,
   "metadata": {
    "collapsed": true
   },
   "outputs": [],
   "source": []
  },
  {
   "cell_type": "markdown",
   "metadata": {},
   "source": [
    "## Question 4"
   ]
  },
  {
   "cell_type": "code",
   "execution_count": null,
   "metadata": {
    "collapsed": true
   },
   "outputs": [],
   "source": [
    "### Dropout p=.5\n",
    "\n",
    "def run(train_iter, val_iter, test_data, model, optimizer, max_epoch):\n",
    "    training_losses = []\n",
    "    validation_losses = []\n",
    "    \n",
    "    mini_batch_losses = []\n",
    "\n",
    "    while train_iter.epoch < max_epoch:\n",
    "        # Get next mini-batch\n",
    "        batch = train_iter.next()\n",
    "        image_train, target_train = concat_examples(batch)\n",
    "\n",
    "        # Prediction\n",
    "        prediction_train = model(image_train)\n",
    "\n",
    "        # Compute loss\n",
    "        loss = F.softmax_cross_entropy(prediction_train, target_train)\n",
    "        mini_batch_losses.append(loss.data)\n",
    "\n",
    "        # Compute gradients\n",
    "        model.cleargrads()\n",
    "        loss.backward()\n",
    "\n",
    "        # Update variables\n",
    "        optimizer.update()\n",
    "\n",
    "        # Check the validation accuracy of prediction after every epoch\n",
    "        if train_iter.is_new_epoch:  # If this iteration is the final iteration of the current epoch\n",
    "\n",
    "            # Save the training loss\n",
    "            training_losses.append(np.mean(mini_batch_losses))\n",
    "            mini_batch_losses = []\n",
    "\n",
    "            val_losses = []\n",
    "            val_accuracies = []\n",
    "            while True:\n",
    "                val_batch = val_iter.next()\n",
    "                image_val, target_val = concat_examples(val_batch)\n",
    "\n",
    "                # Forward the validation data\n",
    "                prediction_val = model(image_val)\n",
    "\n",
    "                # Calculate the loss\n",
    "                loss_val = F.softmax_cross_entropy(prediction_val, target_val)\n",
    "                val_losses.append(loss_val.data)\n",
    "\n",
    "                # Calculate the accuracy\n",
    "                accuracy = F.accuracy(prediction_val, target_val)\n",
    "                val_accuracies.append(accuracy.data)\n",
    "\n",
    "                if val_iter.is_new_epoch:\n",
    "                    val_iter.epoch = 0\n",
    "                    val_iter.current_position = 0\n",
    "                    val_iter.is_new_epoch = False\n",
    "                    val_iter._pushed_position = None\n",
    "\n",
    "                    validation_losses.append(np.mean(val_losses))\n",
    "                    break\n",
    "\n",
    "    # Predict full test set\n",
    "    image_test, target_test = concat_examples(test_data)\n",
    "    # Forward test data\n",
    "    prediction_test = model(image_test)\n",
    "    # Calculate loss and accuracy\n",
    "    loss_test = F.softmax_cross_entropy(prediction_test, target_test)\n",
    "    accuracy_test = F.accuracy(prediction_test, target_test)\n",
    "\n",
    "    print('test_loss: ' + str(loss_test.data) + ' test_accuracy: ' + str(accuracy_test.data))\n",
    "    return training_losses, validation_losses"
   ]
  },
  {
   "cell_type": "markdown",
   "metadata": {},
   "source": [
    "### Sources\n",
    "Chainer: Example: Multi-layer Perceptron on MNIST\n",
    "https://docs.chainer.org/en/stable/tutorial/basic.html#example-multi-layer-perceptron-on-mnist\n",
    "\n",
    "Chainer: Write a training loop\n",
    "https://docs.chainer.org/en/stable/tutorial/train_loop.html#write-a-training-loop\n",
    "\n",
    "Convolutional Network for Visual Recognition Tasks\n",
    "https://docs.chainer.org/en/stable/tutorial/convnet.html"
   ]
  }
 ],
 "metadata": {
  "kernelspec": {
   "display_name": "Python 2",
   "language": "python",
   "name": "python2"
  },
  "language_info": {
   "codemirror_mode": {
    "name": "ipython",
    "version": 2
   },
   "file_extension": ".py",
   "mimetype": "text/x-python",
   "name": "python",
   "nbconvert_exporter": "python",
   "pygments_lexer": "ipython2",
   "version": "2.7.12"
  }
 },
 "nbformat": 4,
 "nbformat_minor": 1
}
