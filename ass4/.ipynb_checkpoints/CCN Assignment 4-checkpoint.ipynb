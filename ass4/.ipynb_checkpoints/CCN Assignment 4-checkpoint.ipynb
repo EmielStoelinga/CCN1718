{
 "cells": [
  {
   "cell_type": "code",
   "execution_count": 53,
   "metadata": {
    "collapsed": true
   },
   "outputs": [],
   "source": [
    "import numpy as np\n",
    "import scipy as sc\n",
    "from scipy import io\n",
    "\n",
    "from numpy import random"
   ]
  },
  {
   "cell_type": "code",
   "execution_count": 54,
   "metadata": {
    "collapsed": false
   },
   "outputs": [],
   "source": [
    "data = io.loadmat('69dataset.mat')\n",
    "X = data['X']\n",
    "Y = data['Y']\n",
    "prior = data['prior']"
   ]
  },
  {
   "cell_type": "code",
   "execution_count": 55,
   "metadata": {
    "collapsed": true
   },
   "outputs": [],
   "source": [
    "def normalize(data):\n",
    "    output = []\n",
    "    for row in data:\n",
    "        this_row = row\n",
    "        mean = np.mean(this_row)\n",
    "        std = np.std(this_row)\n",
    "        normalized = (this_row-mean)/std\n",
    "        output.append(normalized)\n",
    "        \n",
    "    return np.asarray(output)"
   ]
  },
  {
   "cell_type": "code",
   "execution_count": 56,
   "metadata": {
    "collapsed": false
   },
   "outputs": [],
   "source": [
    "def split_into_train_test(data, train_per):\n",
    "    length = len(data)\n",
    "    train_rows = (int)(train_per * length)\n",
    "    random.shuffle(data)\n",
    "    train = data[:train_rows]\n",
    "    test = data[train_rows:]\n",
    "    \n",
    "    return train, test"
   ]
  },
  {
   "cell_type": "code",
   "execution_count": 57,
   "metadata": {
    "collapsed": false
   },
   "outputs": [],
   "source": [
    "# normalize the data\n",
    "normalized_x = normalize(X)\n",
    "normalized_y = normalize(Y)\n",
    "\n",
    "# make training and test sets of the normalize data\n",
    "train_x, test_x = split_into_train_test(normalized_x, .8)\n",
    "train_y, test_y = split_into_train_test(normalized_y, .8)"
   ]
  },
  {
   "cell_type": "markdown",
   "metadata": {},
   "source": [
    "### Approach 1: discriminative model\n",
    "blablabla"
   ]
  },
  {
   "cell_type": "code",
   "execution_count": null,
   "metadata": {
    "collapsed": true
   },
   "outputs": [],
   "source": []
  },
  {
   "cell_type": "markdown",
   "metadata": {},
   "source": [
    "### Approach 2: generative model and Bayes' rule\n",
    "blablabla"
   ]
  },
  {
   "cell_type": "code",
   "execution_count": null,
   "metadata": {
    "collapsed": true
   },
   "outputs": [],
   "source": []
  }
 ],
 "metadata": {
  "kernelspec": {
   "display_name": "Python [Root]",
   "language": "python",
   "name": "Python [Root]"
  },
  "language_info": {
   "codemirror_mode": {
    "name": "ipython",
    "version": 2
   },
   "file_extension": ".py",
   "mimetype": "text/x-python",
   "name": "python",
   "nbconvert_exporter": "python",
   "pygments_lexer": "ipython2",
   "version": "2.7.12"
  }
 },
 "nbformat": 4,
 "nbformat_minor": 0
}
