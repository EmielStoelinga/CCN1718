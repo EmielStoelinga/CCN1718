{
 "cells": [
  {
   "cell_type": "code",
   "execution_count": 13,
   "metadata": {
    "collapsed": false
   },
   "outputs": [],
   "source": [
    "%matplotlib inline\n",
    "\n",
    "import numpy as np\n",
    "import chainer\n",
    "from chainer import cuda, Function, gradient_check, report, training, utils, Variable\n",
    "from chainer import datasets, iterators, optimizers, serializers\n",
    "from chainer import Link, Chain, ChainList\n",
    "import chainer.functions as F\n",
    "import chainer.links as L\n",
    "from chainer.training import extensions\n",
    "from chainer.dataset import concat_examples\n",
    "from chainer.datasets import TupleDataset\n",
    "\n",
    "import matplotlib.pyplot as plt"
   ]
  },
  {
   "cell_type": "code",
   "execution_count": 30,
   "metadata": {
    "collapsed": true
   },
   "outputs": [],
   "source": [
    "# create toy data - compute sum of the previous input\n",
    "def create_data(n=3000):\n",
    "\n",
    "    X = np.random.rand(n, 2).astype('float32')\n",
    "\n",
    "    T = np.sum(X, 1)\n",
    "    T = np.hstack([0, T[1:]]).astype('float32')\n",
    "    T = T.reshape([n,1])\n",
    "    \n",
    "    print(X)\n",
    "    print(T)\n",
    "\n",
    "    return TupleDataset(X, T)"
   ]
  },
  {
   "cell_type": "code",
   "execution_count": 31,
   "metadata": {
    "collapsed": true
   },
   "outputs": [],
   "source": [
    "class RNN(Chain):\n",
    "    def __init__(self, n_units, n_out):\n",
    "        super(RNN, self).__init__()\n",
    "        with self.init_scope():\n",
    "            self.l1 = L.LSTM(None, 1)\n",
    "            self.out = L.Linear(1, 1)\n",
    "            \n",
    "    def __call__(self, x):\n",
    "        h1 = self.l1(x)\n",
    "        y = self.out(h1)\n",
    "        return y"
   ]
  },
  {
   "cell_type": "code",
   "execution_count": 32,
   "metadata": {
    "collapsed": false
   },
   "outputs": [
    {
     "name": "stdout",
     "output_type": "stream",
     "text": [
      "[[ 0.73387337  0.95392621]\n",
      " [ 0.24672014  0.59584314]\n",
      " [ 0.41823795  0.53881925]\n",
      " ..., \n",
      " [ 0.03193476  0.46695888]\n",
      " [ 0.77180785  0.57168233]\n",
      " [ 0.81280518  0.62013006]]\n",
      "[[ 0.        ]\n",
      " [ 0.84256327]\n",
      " [ 0.95705724]\n",
      " ..., \n",
      " [ 0.49889365]\n",
      " [ 1.34349012]\n",
      " [ 1.43293524]]\n",
      "[[ 0.70356447  0.39203271]\n",
      " [ 0.81032151  0.68759692]\n",
      " [ 0.99589902  0.49500224]\n",
      " ..., \n",
      " [ 0.67991263  0.42339194]\n",
      " [ 0.39535064  0.66386634]\n",
      " [ 0.89233321  0.0321647 ]]\n",
      "[[ 0.        ]\n",
      " [ 1.49791837]\n",
      " [ 1.49090123]\n",
      " ..., \n",
      " [ 1.10330462]\n",
      " [ 1.05921698]\n",
      " [ 0.9244979 ]]\n",
      "<chainer.datasets.tuple_dataset.TupleDataset object at 0x7fe6bc54c190>\n"
     ]
    }
   ],
   "source": [
    "dataset1 = create_data()\n",
    "dataset2 = create_data()\n",
    "\n",
    "print(dataset1)"
   ]
  },
  {
   "cell_type": "code",
   "execution_count": null,
   "metadata": {
    "collapsed": true
   },
   "outputs": [],
   "source": []
  }
 ],
 "metadata": {
  "kernelspec": {
   "display_name": "Python 2",
   "language": "python",
   "name": "python2"
  },
  "language_info": {
   "codemirror_mode": {
    "name": "ipython",
    "version": 2
   },
   "file_extension": ".py",
   "mimetype": "text/x-python",
   "name": "python",
   "nbconvert_exporter": "python",
   "pygments_lexer": "ipython2",
   "version": "2.7.12"
  }
 },
 "nbformat": 4,
 "nbformat_minor": 0
}
