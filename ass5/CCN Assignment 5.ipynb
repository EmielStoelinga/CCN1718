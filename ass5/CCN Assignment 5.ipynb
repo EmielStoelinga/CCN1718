{
 "cells": [
  {
   "cell_type": "markdown",
   "metadata": {},
   "source": [
    "# CCN Assignment 5: Reinforcement Learning\n",
    "By: Luca Parolo & Emiel Stoelinga\n",
    "\n",
    "In the current assignment, several reinforcement learning algorithms will be examined and implemented in a simple environment."
   ]
  },
  {
   "cell_type": "markdown",
   "metadata": {},
   "source": [
    "First basic libraries are imported."
   ]
  },
  {
   "cell_type": "code",
   "execution_count": 1,
   "metadata": {
    "collapsed": true
   },
   "outputs": [],
   "source": [
    "%matplotlib inline\n",
    "\n",
    "import numpy as np\n",
    "import pandas as pd\n",
    "import matplotlib.pyplot as plt\n",
    "\n",
    "from my_env import EvidenceEnv"
   ]
  },
  {
   "cell_type": "markdown",
   "metadata": {},
   "source": [
    "### Assignment 1\n",
    "First, an agent is implemented which performs random actions given the observations."
   ]
  },
  {
   "cell_type": "code",
   "execution_count": 2,
   "metadata": {
    "collapsed": true
   },
   "outputs": [],
   "source": [
    "class RandomAgent(object):\n",
    "    def __init__(self, env):\n",
    "        \"\"\"\n",
    "        Args:\n",
    "        env: an environment\n",
    "        \"\"\"\n",
    "        self.env = env\n",
    "\n",
    "    def act(self, observation):\n",
    "        \"\"\"\n",
    "        Act based on observation and train agent on cumulated reward (return)\n",
    "        :param observation: new observation\n",
    "        :param reward: reward gained from previous action; None indicates no reward because of initial state\n",
    "        :return: action (Variable)\n",
    "        \"\"\"\n",
    "#         print(observation)\n",
    "        action = np.random.choice(self.env.n_action)\n",
    "#         print(action)\n",
    "        return action\n",
    "\n",
    "    def train(self, a, old_obs, r, new_obs):\n",
    "        \"\"\"\n",
    "        :param a: action\n",
    "        :param old_obs: old observation\n",
    "        :param r: reward\n",
    "        :param new_obs: new observation\n",
    "        :return:\n",
    "        \"\"\"\n",
    "        pass"
   ]
  },
  {
   "cell_type": "code",
   "execution_count": 3,
   "metadata": {
    "collapsed": true
   },
   "outputs": [],
   "source": [
    "def run(env, agent, n_iter):\n",
    "    # reset environment and agent\n",
    "    obs = env.reset()\n",
    "    reward = None\n",
    "    done = False\n",
    "    R = []\n",
    "    for step in range(n_iter):\n",
    "        env.render()\n",
    "        action = agent.act(obs)\n",
    "        _obs, reward, done, _ = env.step(action)\n",
    "        agent.train(action, obs, reward, _obs)\n",
    "        obs = _obs\n",
    "        R.append(reward)\n",
    "        \n",
    "    return R"
   ]
  },
  {
   "cell_type": "code",
   "execution_count": 4,
   "metadata": {
    "collapsed": false
   },
   "outputs": [
    {
     "data": {
      "text/plain": [
       "[<matplotlib.lines.Line2D at 0x7fdfc99cc310>]"
      ]
     },
     "execution_count": 4,
     "metadata": {},
     "output_type": "execute_result"
    },
    {
     "data": {
      "image/png": "[encoded data removed]",
      "text/plain": [
       "<matplotlib.figure.Figure at 0x7fe00443ccd0>"
      ]
     },
     "metadata": {},
     "output_type": "display_data"
    }
   ],
   "source": [
    "# Number of iterations\n",
    "n_iter = 1000\n",
    "# environment specs\n",
    "env = EvidenceEnv(n=2, p=0.95)\n",
    "# define agent\n",
    "rndm_agent = RandomAgent(env)\n",
    "\n",
    "reward = run(env, rndm_agent, n_iter)\n",
    "reward_accumulated = np.cumsum(reward)\n",
    "\n",
    "plt.figure(1)\n",
    "plt.plot(reward_accumulated)    "
   ]
  },
  {
   "cell_type": "markdown",
   "metadata": {},
   "source": [
    "In the plot above, accumulated reward of the random agent is represented. What can be seen, is that there is no trend in the reward and that the agent is not learning at all."
   ]
  },
  {
   "cell_type": "markdown",
   "metadata": {},
   "source": [
    "### Assignment 2: Q-learning\n",
    "In the second part of the assignment, a q-learning agent is implemented which predicts the action to chose based on observations and predicted reward."
   ]
  },
  {
   "cell_type": "code",
   "execution_count": 5,
   "metadata": {
    "collapsed": true
   },
   "outputs": [],
   "source": [
    "class QLearnAgent(object):\n",
    "    def __init__(self, env, alpha, lamb):\n",
    "        self.env = env\n",
    "        n_inputs = env.n_input\n",
    "        n_actions = env.n_action\n",
    "        self.q_table = np.zeros((2**n_inputs, n_actions))\n",
    "        \n",
    "        self.alpha = alpha\n",
    "        self.lamb = lamb\n",
    "        \n",
    "    def act(self, observation):\n",
    "#         Determine the index of the observation\n",
    "        idx = self.env.asint(observation)\n",
    "#         Determine the action with the maximum q-value for the\n",
    "#         current observation\n",
    "        action = np.argmax(self.q_table[idx])\n",
    "        return action\n",
    "    \n",
    "    def train(self, a, old_obs, r, new_obs):\n",
    "#         Determine the index of the observations\n",
    "        old_idx = self.env.asint(old_obs)\n",
    "        new_idx = self.env.asint(new_obs)\n",
    "#         Return the maximum q-value of the new observation \n",
    "        fut_q = np.amax(self.q_table[new_idx])\n",
    "        \n",
    "#         Compute new q-values using the Bellman equation\n",
    "        self.q_table[old_idx][a] = self.q_table[old_idx][a]+self.alpha*(r+self.lamb*fut_q-self.q_table[old_idx][a])"
   ]
  },
  {
   "cell_type": "code",
   "execution_count": 6,
   "metadata": {
    "collapsed": false
   },
   "outputs": [
    {
     "name": "stdout",
     "output_type": "stream",
     "text": [
      "2\n",
      "Table of start q-values\n",
      "       Action 0  Action 1\n",
      "[0,0]       0.0       0.0\n",
      "[0,1]       0.0       0.0\n",
      "[1,0]       0.0       0.0\n",
      "[1,1]       0.0       0.0\n",
      "Table of final q-values\n",
      "       Action 0  Action 1\n",
      "[0,0]  7.684119  0.000000\n",
      "[0,1] -0.800000  6.651996\n",
      "[1,0]  7.589821  0.000000\n",
      "[1,1] -0.800000  7.742852\n"
     ]
    },
    {
     "data": {
      "image/png": "[encoded data removed]",
      "text/plain": [
       "<matplotlib.figure.Figure at 0x7fdfc99ff850>"
      ]
     },
     "metadata": {},
     "output_type": "display_data"
    }
   ],
   "source": [
    "print(env.n_action)\n",
    "qlearn_agent = QLearnAgent(env, .8, .9)\n",
    "old_qtable = pd.DataFrame(qlearn_agent.q_table, index=(\"[0,0]\",\"[0,1]\",\"[1,0]\", \"[1,1]\"), columns=(\"Action 0\", \"Action 1\"))\n",
    "print(\"Table of start q-values\")\n",
    "print(old_qtable)\n",
    "\n",
    "reward = run(env, qlearn_agent, n_iter)\n",
    "reward_accumulated = np.cumsum(reward)\n",
    "\n",
    "plt.figure(2)\n",
    "plt.plot(reward_accumulated)\n",
    "\n",
    "new_qtable = pd.DataFrame(qlearn_agent.q_table, index=(\"[0,0]\",\"[0,1]\",\"[1,0]\", \"[1,1]\"), columns=(\"Action 0\", \"Action 1\"))\n",
    "\n",
    "print(\"Table of final q-values\")\n",
    "print(new_qtable)"
   ]
  },
  {
   "cell_type": "markdown",
   "metadata": {},
   "source": [
    "What can be seen in the plot above, is that the agent's accumulated reward keeps climbing as the number of epochs grows. There are slight decreases in the increase of accumulated reward, but overall the reward keeps climbing. This is an indication that the system has learned to choose an action based on its q-values."
   ]
  },
  {
   "cell_type": "markdown",
   "metadata": {},
   "source": [
    "### Assignment 3\n",
    "Last, a neural q-agent will be implemented; an MLP that takes observations and learns to \n",
    "compute the Q value for all possible actions."
   ]
  },
  {
   "cell_type": "code",
   "execution_count": 7,
   "metadata": {
    "collapsed": true
   },
   "outputs": [],
   "source": [
    "import chainer\n",
    "from chainer import cuda, Function, gradient_check, report, training, utils, Variable\n",
    "from chainer import datasets, iterators, optimizers, serializers\n",
    "from chainer import Link, Chain, ChainList\n",
    "import chainer.functions as F\n",
    "import chainer.links as L\n",
    "from chainer import link\n",
    "from chainer.functions.loss import mean_squared_error\n",
    "from chainer.functions.evaluation import accuracy\n",
    "from chainer import reporter\n"
   ]
  },
  {
   "cell_type": "code",
   "execution_count": 8,
   "metadata": {
    "collapsed": true
   },
   "outputs": [],
   "source": [
    "class MLP(Chain):\n",
    "    def __init__(self, n_units, n_out):\n",
    "        super(MLP, self).__init__()\n",
    "        with self.init_scope():\n",
    "            self.l1 = L.Linear(None, n_units)\n",
    "            self.l2 = L.Linear(None, n_units)\n",
    "            self.l3 = L.Linear(None, n_out)\n",
    "\n",
    "    def __call__(self, x):\n",
    "        h1 = F.relu(self.l1(x))\n",
    "        h2 = F.relu(self.l2(h1))\n",
    "        y = self.l3(h2)\n",
    "        return y"
   ]
  },
  {
   "cell_type": "code",
   "execution_count": 9,
   "metadata": {
    "collapsed": false
   },
   "outputs": [],
   "source": [
    "class Regressor(link.Chain):\n",
    "\n",
    "    compute_accuracy = False\n",
    "\n",
    "    def __init__(self, predictor,\n",
    "                 lossfun=mean_squared_error.mean_squared_error,\n",
    "                 accfun=accuracy.accuracy,\n",
    "                 label_key=-1):\n",
    "        if not (isinstance(label_key, (int, str))):\n",
    "            raise TypeError('label_key must be int or str, but is %s' %\n",
    "                            type(label_key))\n",
    "\n",
    "        super(Regressor, self).__init__()\n",
    "        self.lossfun = lossfun\n",
    "        self.accfun = accfun\n",
    "        self.y = None\n",
    "        self.loss = None\n",
    "        self.accuracy = None\n",
    "        self.label_key = label_key\n",
    "\n",
    "        with self.init_scope():\n",
    "            self.predictor = predictor\n",
    "\n",
    "    def __call__(self, *args, **kwargs):\n",
    "\n",
    "        if isinstance(self.label_key, int):\n",
    "            if not (-len(args) <= self.label_key < len(args)):\n",
    "                msg = 'Label key %d is out of bounds' % self.label_key\n",
    "                raise ValueError(msg)\n",
    "            t = args[self.label_key]\n",
    "            if self.label_key == -1:\n",
    "                args = args[:-1]\n",
    "            else:\n",
    "                args = args[:self.label_key] + args[self.label_key + 1:]\n",
    "        elif isinstance(self.label_key, str):\n",
    "            if self.label_key not in kwargs:\n",
    "                msg = 'Label key \"%s\" is not found' % self.label_key\n",
    "                raise ValueError(msg)\n",
    "            t = kwargs[self.label_key]\n",
    "            del kwargs[self.label_key]\n",
    "\n",
    "        self.y = None\n",
    "        self.loss = None\n",
    "        self.accuracy = None\n",
    "        self.y = self.predictor(*args, **kwargs)\n",
    "        self.loss = self.lossfun(self.y, t)\n",
    "        reporter.report({'loss': self.loss}, self)\n",
    "        return self.loss"
   ]
  },
  {
   "cell_type": "code",
   "execution_count": 10,
   "metadata": {
    "collapsed": false
   },
   "outputs": [],
   "source": [
    "from chainer import cuda\n",
    "from chainer import function\n",
    "from chainer import utils\n",
    "from chainer.utils import type_check\n",
    "\n",
    "class SquaredDifference(function.Function):\n",
    "    \"\"\"Squared difference of input variables.\"\"\"\n",
    "\n",
    "    def check_type_forward(self, in_types):\n",
    "        type_check.expect(in_types.size() == 2)\n",
    "        type_check.expect(\n",
    "            in_types[0].dtype.kind == 'f',\n",
    "            in_types[0].dtype == in_types[1].dtype,\n",
    "            in_types[0].shape == in_types[1].shape\n",
    "        )\n",
    "\n",
    "    def forward(self, inputs):\n",
    "        self.retain_inputs(())\n",
    "        self._in_dtype = inputs[0].dtype\n",
    "        xp = cuda.get_array_module(*inputs)\n",
    "        x1, x2 = inputs\n",
    "        self.difference = x1 - x2\n",
    "        y = xp.square(self.difference)\n",
    "        return utils.force_array(y, dtype=x1.dtype),\n",
    "\n",
    "    def backward(self, inputs, grads):\n",
    "        gy, = grads\n",
    "        gx = gy * 2 * self.difference\n",
    "        gx = utils.force_array(gx, dtype=self._in_dtype)\n",
    "        gx_minus = utils.force_array(-gx, dtype=self._in_dtype)\n",
    "        return gx, gx_minus\n",
    "    \n",
    "def squared_difference(x1, x2):\n",
    "    \"\"\"Squared difference of input variables.\n",
    "    Args:\n",
    "        x1 (~chainer.Variable): Input variables to be compared.\n",
    "        x2 (~chainer.Variable): Input variables to be compared.\n",
    "    Returns:\n",
    "        ~chainer.Variable: ``(x1 - x2) ** 2`` element-wise.\n",
    "    \"\"\"\n",
    "    print(\"Start.\")\n",
    "    print(x1)\n",
    "    print(x2)\n",
    "    output = SquaredDifference()(x1, x2)\n",
    "    print(output)\n",
    "    print(\"Done.\")\n",
    "    return output"
   ]
  },
  {
   "cell_type": "code",
   "execution_count": 14,
   "metadata": {
    "collapsed": true
   },
   "outputs": [],
   "source": [
    "class NeuralQAgent(object):\n",
    "    def __init__(self, lamb):        \n",
    "        self.lamb = lamb\n",
    "        \n",
    "        self.mlp = MLP(10, 2)\n",
    "        self.regressor = Regressor(self.mlp, F.squared_difference)\n",
    "        self.optimizer = optimizers.SGD()\n",
    "        self.optimizer.setup(self.regressor)\n",
    "        \n",
    "    def act(self, observation):\n",
    "        # transform observation into correct dimensions\n",
    "        observation = np.array([observation])\n",
    "        \n",
    "        # compute q-values for all actions\n",
    "        qvalues = self.mlp(observation).data[0]\n",
    "        self.mlp.cleargrads()\n",
    "        \n",
    "        # choose action with the highest q-value\n",
    "        if(qvalues[0]>qvalues[1]):\n",
    "            return 0\n",
    "        else:\n",
    "            return 1\n",
    "    \n",
    "    def train(self, a, old_obs, r, new_obs):\n",
    "        # transform observations into correct dimensions\n",
    "        old_obs = np.array([old_obs])\n",
    "        new_obs = np.array([new_obs])\n",
    "        \n",
    "        # compute q-values for old and new observations\n",
    "        q_old = self.mlp(old_obs).data[0]\n",
    "        q_new = self.mlp(new_obs).data[0]\n",
    "        \n",
    "        # select the action for the new observation with the highest q-value\n",
    "        maxa_new = np.amax(q_new)\n",
    "        idx_maxa_new = np.argmax(q_new)\n",
    "        \n",
    "        # initialize target q-values, and\n",
    "        tgt_q = q_new\n",
    "        # set the target q-value for action a\n",
    "        tgt_q[idx_maxa_new] = r+self.lamb*maxa_new\n",
    "        tgt_q = Variable(np.array([tgt_q]))\n",
    "        \n",
    "        # calculate loss and backpropagate\n",
    "        loss = self.regressor(old_obs, tgt_q)\n",
    "        if loss.grad == None:\n",
    "            loss.grad = np.ones_like(loss.data, dtype=loss.data.dtype)\n",
    "        self.mlp.cleargrads()\n",
    "        loss.backward()\n",
    "        self.optimizer.update()"
   ]
  },
  {
   "cell_type": "code",
   "execution_count": 66,
   "metadata": {
    "collapsed": false
   },
   "outputs": [
    {
     "name": "stdout",
     "output_type": "stream",
     "text": [
      "Old q-values.\n",
      "       Action 0  Action 1\n",
      "[0,0]  0.000000  0.000000\n",
      "[0,1] -0.087175  0.082452\n",
      "[1,0]  0.079574  0.020009\n",
      "[1,1]  0.098094  0.066372\n",
      "New q-values.\n",
      "       Action 0  Action 1\n",
      "[0,0]  6.530638  6.398492\n",
      "[0,1]  5.970027  6.202227\n",
      "[1,0]  5.929813  6.215488\n",
      "[1,1]  6.373582  6.900719\n"
     ]
    },
    {
     "data": {
      "text/plain": [
       "[<matplotlib.lines.Line2D at 0x7fdfbf8d6c10>]"
      ]
     },
     "execution_count": 66,
     "metadata": {},
     "output_type": "execute_result"
    },
    {
     "data": {
      "image/png": "[encoded data removed]",
      "text/plain": [
       "<matplotlib.figure.Figure at 0x7fdfbfb25f50>"
      ]
     },
     "metadata": {},
     "output_type": "display_data"
    }
   ],
   "source": [
    "neuralq_agent = NeuralQAgent(.9)\n",
    "old_qtable = np.empty(shape=(1,2))\n",
    "old_qtable = np.append(old_qtable, neuralq_agent.mlp(np.array([[0,0]], dtype=np.float32)).data, axis=0)\n",
    "old_qtable = np.append(old_qtable, neuralq_agent.mlp(np.array([[0,1]], dtype=np.float32)).data, axis=0)\n",
    "old_qtable = np.append(old_qtable, neuralq_agent.mlp(np.array([[1,0]], dtype=np.float32)).data, axis=0)\n",
    "old_qtable = np.append(old_qtable, neuralq_agent.mlp(np.array([[1,1]], dtype=np.float32)).data, axis=0)\n",
    "old_qtable = np.delete(old_qtable, 0, 0)\n",
    "old_qtable = pd.DataFrame(old_qtable, index=(\"[0,0]\",\"[0,1]\",\"[1,0]\", \"[1,1]\"), columns=(\"Action 0\", \"Action 1\"))\n",
    "print(\"Old q-values.\")\n",
    "print(old_qtable)\n",
    "\n",
    "reward = run(env, neuralq_agent, n_iter)\n",
    "reward_accumulated = np.cumsum(reward)\n",
    "\n",
    "new_qtable = np.empty(shape=(1,2))\n",
    "new_qtable = np.append(new_qtable, neuralq_agent.mlp(np.array([[0,0]], dtype=np.float32)).data, axis=0)\n",
    "new_qtable = np.append(new_qtable, neuralq_agent.mlp(np.array([[0,1]], dtype=np.float32)).data, axis=0)\n",
    "new_qtable = np.append(new_qtable, neuralq_agent.mlp(np.array([[1,0]], dtype=np.float32)).data, axis=0)\n",
    "new_qtable = np.append(new_qtable, neuralq_agent.mlp(np.array([[1,1]], dtype=np.float32)).data, axis=0)\n",
    "new_qtable = np.delete(new_qtable, 0, 0)\n",
    "new_qtable = pd.DataFrame(new_qtable, index=(\"[0,0]\",\"[0,1]\",\"[1,0]\", \"[1,1]\"), columns=(\"Action 0\", \"Action 1\"))\n",
    "print(\"New q-values.\")\n",
    "print(new_qtable)\n",
    "    \n",
    "plt.figure(3)\n",
    "plt.plot(reward_accumulated)"
   ]
  },
  {
   "cell_type": "markdown",
   "metadata": {
    "collapsed": true
   },
   "source": [
    "As can be seen in the above figure, the network steadily learns. Accumulated reward climbs over the course of time and what is striking to see is that from epoch ~500, the reward seems to climb progressively. This is an indication that the network is actually learning. The predicted q-values also seem to be better estimates of the real q-values. "
   ]
  }
 ],
 "metadata": {
  "kernelspec": {
   "display_name": "Python 2",
   "language": "python",
   "name": "python2"
  },
  "language_info": {
   "codemirror_mode": {
    "name": "ipython",
    "version": 2
   },
   "file_extension": ".py",
   "mimetype": "text/x-python",
   "name": "python",
   "nbconvert_exporter": "python",
   "pygments_lexer": "ipython2",
   "version": "2.7.12"
  }
 },
 "nbformat": 4,
 "nbformat_minor": 0
}
