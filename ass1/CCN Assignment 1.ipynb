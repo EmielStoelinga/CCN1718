{
 "cells": [
  {
   "cell_type": "markdown",
   "metadata": {},
   "source": [
    "# Computational Cognitive Neuroscience: assignment 1\n",
    "\n",
    "By: Emiel Stoelinga, s4837584\n",
    "\n",
    "In this assignment, a multilayer perceptron is trained to predict handwritten digits from the MNIST dataset. The network should contain one hidden layer with 10 hidden units. The output of the network is a prediction of which digit the input image represents."
   ]
  },
  {
   "cell_type": "markdown",
   "metadata": {},
   "source": [
    "First the required libraries are imported."
   ]
  },
  {
   "cell_type": "code",
   "execution_count": 2,
   "metadata": {},
   "outputs": [],
   "source": [
    "%matplotlib inline\n",
    "\n",
    "import numpy as np\n",
    "import chainer\n",
    "from chainer import cuda, Function, gradient_check, report, training, utils, Variable\n",
    "from chainer import datasets, iterators, optimizers, serializers\n",
    "from chainer import Link, Chain, ChainList\n",
    "import chainer.functions as F\n",
    "import chainer.links as L\n",
    "from chainer.training import extensions\n",
    "from chainer.dataset import concat_examples\n",
    "\n",
    "from utils import get_mnist\n",
    "\n",
    "import matplotlib.pyplot as plt"
   ]
  },
  {
   "cell_type": "markdown",
   "metadata": {},
   "source": [
    "Then, a class is constructed which represents the network. The network consist of an input layer, a hidden layer and an output layer."
   ]
  },
  {
   "cell_type": "code",
   "execution_count": 3,
   "metadata": {
    "collapsed": true
   },
   "outputs": [],
   "source": [
    "class MLP(Chain):\n",
    "    def __init__(self, n_units, n_out):\n",
    "        super(MLP, self).__init__()\n",
    "        with self.init_scope():\n",
    "            self.l1 = L.Linear(None, n_units)\n",
    "            self.l2 = L.Linear(None, n_units)\n",
    "            self.l3 = L.Linear(None, n_out)\n",
    "\n",
    "    def __call__(self, x):\n",
    "        h1 = F.relu(self.l1(x))\n",
    "        h2 = F.relu(self.l2(h1))\n",
    "        y = self.l3(h2)\n",
    "        return y"
   ]
  },
  {
   "cell_type": "markdown",
   "metadata": {},
   "source": [
    "In order to train the network, a training function is built. For every epoch, the function forwards a new mini-batch through the network, computes the loss and backwards the loss through the network such that variables can be updated. Furthermore, the network is evaluated by forwarding the test set of 100 images through it.\n",
    "\n",
    "For both operations, the loss is printed and stored, such that it can be plotted after training. "
   ]
  },
  {
   "cell_type": "code",
   "execution_count": 4,
   "metadata": {},
   "outputs": [],
   "source": [
    "def run(train_iter, val_iter, test_data, model, optimizer, max_epoch):\n",
    "    training_losses = []\n",
    "    validation_losses = []\n",
    "\n",
    "    batch_losses = []\n",
    "    \n",
    "    while train_iter.epoch < max_epoch:\n",
    "        # Get next mini-batch\n",
    "        batch = train_iter.next()\n",
    "        image_train, target_train = concat_examples(batch)\n",
    "\n",
    "        # Prediction\n",
    "        prediction_train = model(image_train)\n",
    "\n",
    "        # Compute loss\n",
    "        loss = F.softmax_cross_entropy(prediction_train, target_train)\n",
    "        batch_losses.append(loss.data)\n",
    "\n",
    "        # Compute gradients\n",
    "        model.cleargrads()\n",
    "        loss.backward()\n",
    "\n",
    "        # Update variables\n",
    "        optimizer.update()\n",
    "\n",
    "        # Check the validation accuracy of prediction after every epoch\n",
    "        if train_iter.is_new_epoch:  # If this iteration is the final iteration of the current epoch\n",
    "\n",
    "            # Display the training loss\n",
    "            print('epoch:{:02d} train_loss:{:.04f} '.format(train_iter.epoch, np.mean(batch_losses)))\n",
    "            training_losses.append(np.mean(batch_losses))\n",
    "            batch_losses = []\n",
    "\n",
    "            val_losses = []\n",
    "            val_accuracies = []\n",
    "            while True:\n",
    "                val_batch = val_iter.next()\n",
    "                image_val, target_val = concat_examples(val_batch)\n",
    "\n",
    "                # Forward the validation data\n",
    "                prediction_val = model(image_val)\n",
    "\n",
    "                # Calculate the loss\n",
    "                loss_val = F.softmax_cross_entropy(prediction_val, target_val)\n",
    "                val_losses.append(loss_val.data)\n",
    "\n",
    "                # Calculate the accuracy\n",
    "                accuracy = F.accuracy(prediction_val, target_val)\n",
    "                val_accuracies.append(accuracy.data)\n",
    "\n",
    "                if val_iter.is_new_epoch:\n",
    "                    val_iter.epoch = 0\n",
    "                    val_iter.current_position = 0\n",
    "                    val_iter.is_new_epoch = False\n",
    "                    val_iter._pushed_position = None\n",
    "\n",
    "                    validation_losses.append(np.mean(val_losses))\n",
    "                    break\n",
    "\n",
    "            print('val_loss:{:.04f} val_accuracy:{:.04f}'.format(np.mean(val_losses), np.mean(val_accuracies)))\n",
    "\n",
    "    # Predict full test set\n",
    "    image_test, target_test = concat_examples(test_data)\n",
    "    # Forward test data\n",
    "    prediction_test = model(image_test)\n",
    "    # Calculate loss and accuracy\n",
    "    loss_test = F.softmax_cross_entropy(prediction_test, target_test)\n",
    "    accuracy_test = F.accuracy(prediction_test, target_test)\n",
    "\n",
    "    print('test_loss: ' + str(loss_test.data) + ' test_accuracy: ' + str(accuracy_test.data))\n",
    "    return training_losses, validation_losses"
   ]
  },
  {
   "cell_type": "markdown",
   "metadata": {},
   "source": [
    "The full proces is called in the main function. First, the data is downloaded. Then, iterators are constructed which iterate over the data for every epoch. Then the model and the optimizer are constructed and last, the model is trained. "
   ]
  },
  {
   "cell_type": "code",
   "execution_count": 10,
   "metadata": {},
   "outputs": [
    {
     "name": "stdout",
     "output_type": "stream",
     "text": [
      "epoch:01 train_loss:2.3137 \n",
      "val_loss:2.3060 val_accuracy:0.0770\n",
      "epoch:02 train_loss:2.2945 \n",
      "val_loss:2.2909 val_accuracy:0.1040\n",
      "epoch:03 train_loss:2.2724 \n",
      "val_loss:2.2765 val_accuracy:0.1270\n",
      "epoch:04 train_loss:2.2573 \n",
      "val_loss:2.2618 val_accuracy:0.1530\n",
      "epoch:05 train_loss:2.2391 \n",
      "val_loss:2.2467 val_accuracy:0.1800\n",
      "epoch:06 train_loss:2.2193 \n",
      "val_loss:2.2339 val_accuracy:0.2090\n",
      "epoch:07 train_loss:2.2015 \n",
      "val_loss:2.2182 val_accuracy:0.2370\n",
      "epoch:08 train_loss:2.1797 \n",
      "val_loss:2.2020 val_accuracy:0.2600\n",
      "epoch:09 train_loss:2.1599 \n",
      "val_loss:2.1853 val_accuracy:0.2850\n",
      "epoch:10 train_loss:2.1376 \n",
      "val_loss:2.1671 val_accuracy:0.3270\n",
      "epoch:11 train_loss:2.1190 \n",
      "val_loss:2.1509 val_accuracy:0.3650\n",
      "epoch:12 train_loss:2.0934 \n",
      "val_loss:2.1311 val_accuracy:0.3980\n",
      "epoch:13 train_loss:2.0696 \n",
      "val_loss:2.1105 val_accuracy:0.4420\n",
      "epoch:14 train_loss:2.0417 \n",
      "val_loss:2.0888 val_accuracy:0.4820\n",
      "epoch:15 train_loss:2.0193 \n",
      "val_loss:2.0662 val_accuracy:0.5120\n",
      "epoch:16 train_loss:1.9884 \n",
      "val_loss:2.0454 val_accuracy:0.5330\n",
      "epoch:17 train_loss:1.9615 \n",
      "val_loss:2.0204 val_accuracy:0.5580\n",
      "epoch:18 train_loss:1.9321 \n",
      "val_loss:1.9942 val_accuracy:0.5760\n",
      "epoch:19 train_loss:1.8965 \n",
      "val_loss:1.9675 val_accuracy:0.5870\n",
      "epoch:20 train_loss:1.8654 \n",
      "val_loss:1.9392 val_accuracy:0.6020\n",
      "epoch:21 train_loss:1.8317 \n",
      "val_loss:1.9092 val_accuracy:0.6100\n",
      "epoch:22 train_loss:1.8065 \n",
      "val_loss:1.8834 val_accuracy:0.6210\n",
      "epoch:23 train_loss:1.7673 \n",
      "val_loss:1.8524 val_accuracy:0.6240\n",
      "epoch:24 train_loss:1.7280 \n",
      "val_loss:1.8210 val_accuracy:0.6330\n",
      "epoch:25 train_loss:1.6930 \n",
      "val_loss:1.7886 val_accuracy:0.6340\n",
      "epoch:26 train_loss:1.6541 \n",
      "val_loss:1.7561 val_accuracy:0.6330\n",
      "epoch:27 train_loss:1.6217 \n",
      "val_loss:1.7276 val_accuracy:0.6360\n",
      "epoch:28 train_loss:1.5852 \n",
      "val_loss:1.6945 val_accuracy:0.6420\n",
      "epoch:29 train_loss:1.5492 \n",
      "val_loss:1.6612 val_accuracy:0.6450\n",
      "epoch:30 train_loss:1.5012 \n",
      "val_loss:1.6279 val_accuracy:0.6450\n",
      "test_loss: 1.62785482407 test_accuracy: 0.644999980927\n"
     ]
    },
    {
     "data": {
      "image/png": "[encoded data removed]",
      "text/plain": [
       "<matplotlib.figure.Figure at 0x73c3e10>"
      ]
     },
     "metadata": {},
     "output_type": "display_data"
    }
   ],
   "source": [
    "def main():\n",
    "    # Load data\n",
    "    train, test = get_mnist()\n",
    "    \n",
    "    # Initialize iterators\n",
    "    train_iter = iterators.SerialIterator(train, batch_size=128, shuffle=True)\n",
    "    val_iter = iterators.SerialIterator(test, batch_size=100, repeat=False, shuffle=False)\n",
    "\n",
    "    # Define model\n",
    "    model = MLP(00, 10)\n",
    "    optimizer = optimizers.SGD()\n",
    "    optimizer.setup(model)\n",
    "\n",
    "    training_losses, validation_losses = run(train_iter, val_iter, test, model, optimizer, 30)\n",
    "    \n",
    "    plt.plot(training_losses, label='Training loss')\n",
    "    plt.plot(validation_losses, label='Validation loss')\n",
    "    plt.legend()\n",
    "    \n",
    "    \n",
    "\n",
    "if __name__ == \"__main__\":\n",
    "    main()"
   ]
  },
  {
   "cell_type": "markdown",
   "metadata": {},
   "source": [
    "## Results\n",
    "As can be seen in the figure, both the training loss and the validation loss descend. Because the network iterates over only a part of the training set per epoch, bumps occur in the slope of the training loss. Due to the small hills in the training loss during the training process, the weights in the network are additionaly adjusted. That the network is succesfully training can be seen in the descending slope of the validation loss. The longer the network trains, the higher its performance in predicting the digits in the dataset.  "
   ]
  },
  {
   "cell_type": "markdown",
   "metadata": {},
   "source": [
    "### Sources\n",
    "Chainer: Example: Multi-layer Perceptron on MNIST\n",
    "https://docs.chainer.org/en/stable/tutorial/basic.html#example-multi-layer-perceptron-on-mnist\n",
    "\n",
    "Chainer: Write a training loop\n",
    "https://docs.chainer.org/en/stable/tutorial/train_loop.html#write-a-training-loop"
   ]
  }
 ],
 "metadata": {
  "kernelspec": {
   "display_name": "Python 2",
   "language": "python",
   "name": "python2"
  },
  "language_info": {
   "codemirror_mode": {
    "name": "ipython",
    "version": 2
   },
   "file_extension": ".py",
   "mimetype": "text/x-python",
   "name": "python",
   "nbconvert_exporter": "python",
   "pygments_lexer": "ipython2",
   "version": "2.7.13"
  }
 },
 "nbformat": 4,
 "nbformat_minor": 1
}
