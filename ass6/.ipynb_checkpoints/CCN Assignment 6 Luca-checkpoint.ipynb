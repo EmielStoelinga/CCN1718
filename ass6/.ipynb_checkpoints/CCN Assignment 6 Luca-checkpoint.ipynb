{
 "cells": [
  {
   "cell_type": "markdown",
   "metadata": {},
   "source": [
    "# CCN Assignment 6: Generative\tAdversarial\tNetworks"
   ]
  },
  {
   "cell_type": "code",
   "execution_count": 6,
   "metadata": {},
   "outputs": [],
   "source": [
    "%matplotlib inline\n",
    "\n",
    "import numpy as np\n",
    "import chainer\n",
    "from chainer import cuda, Function, gradient_check, report, training, utils, Variable\n",
    "from chainer import datasets, iterators, optimizers, serializers\n",
    "from chainer import Link, Chain, ChainList\n",
    "import chainer.functions as F\n",
    "import chainer.links as L\n",
    "from chainer.training import extensions\n",
    "from chainer.dataset import concat_examples\n",
    "from chainer.datasets import TupleDataset\n",
    "from chainer.functions.evaluation import accuracy\n",
    "from chainer.functions.loss import softmax_cross_entropy\n",
    "from chainer import link\n",
    "from chainer import reporter\n",
    "from utils import get_mnist\n",
    "\n",
    "import matplotlib.pyplot as plt"
   ]
  },
  {
   "cell_type": "code",
   "execution_count": 106,
   "metadata": {
    "collapsed": true
   },
   "outputs": [],
   "source": [
    "# make loss function such that loss if high when discriminator \n",
    "# classifies generator network output as fake 0, and\n",
    "# low when generator network output as being a real 0\n",
    "\n",
    "class Generator(Chain):\n",
    "    def __init__(self):\n",
    "        super(Generator, self).__init__()\n",
    "        with self.init_scope():\n",
    "            self.l1 = L.Linear(None, 784)\n",
    "            self.batch_norm = L.BatchNormalization(5)\n",
    "            self.deconv = L.Deconvolution2D(None, (28, 28))\n",
    "            \n",
    "    def __call__(self, x):\n",
    "        h1 = F.relu(self.l1(x))\n",
    "        h2 = self.batch_norm(h1)\n",
    "        y = self.deconv(h2)\n",
    "        return y"
   ]
  },
  {
   "cell_type": "code",
   "execution_count": 107,
   "metadata": {
    "collapsed": true
   },
   "outputs": [],
   "source": [
    "class Discriminator(Chain):\n",
    "    def __init__(self):\n",
    "        super(Discriminator, self).__init__()\n",
    "        with self.init_scope():\n",
    "            self.conv = L.Convolution2D(None, out_channels=5, ksize=5, stride=1, pad=0)\n",
    "            self.fc1 = L.Linear(None, n_out)\n",
    "            \n",
    "        def __call__(self, x):\n",
    "            h1 = self.conv1(x)\n",
    "            h2 = F.max_pooling_2d(h1, ksize=5, stride=1, pad=0) # Max pooling layer\n",
    "            y = self.fc1(h2)\n",
    "            return y"
   ]
  },
  {
   "cell_type": "code",
   "execution_count": 108,
   "metadata": {},
   "outputs": [],
   "source": [
    "# generate the data that we will use the train and test the discriminator\n",
    "train_data, test_data = get_mnist(n_train=1000, n_test=100, with_label=False, classes = [0])"
   ]
  },
  {
   "cell_type": "code",
   "execution_count": 109,
   "metadata": {
    "collapsed": true
   },
   "outputs": [],
   "source": [
    "model=Generator()"
   ]
  },
  {
   "cell_type": "code",
   "execution_count": 122,
   "metadata": {
    "collapsed": true
   },
   "outputs": [],
   "source": [
    "##create random arrays to feed the Generator. I am not sure this is the right way to do\n",
    "\n",
    "x = np.random.rand(100,1,28, 28).astype(np.float32)\n"
   ]
  },
  {
   "cell_type": "code",
   "execution_count": 111,
   "metadata": {},
   "outputs": [
    {
     "data": {
      "text/plain": [
       "array([[[ 0.7755053 ,  0.1761412 ,  0.85783893,  0.05685215,  0.14638843,\n",
       "          0.78051215,  0.45885673,  0.04956068,  0.06094425,  0.3502773 ,\n",
       "          0.26473844,  0.03988825,  0.45471093,  0.93473607,  0.40737796,\n",
       "          0.08025916,  0.52720469,  0.49565339,  0.2709662 ,  0.64051485,\n",
       "          0.08881259,  0.67040139,  0.56382138,  0.76083392,  0.35859293,\n",
       "          0.65931922,  0.33004409,  0.30344221],\n",
       "        [ 0.18340732,  0.74926573,  0.02299525,  0.33456573,  0.81863987,\n",
       "          0.86185062,  0.45969397,  0.85151309,  0.3884078 ,  0.36942703,\n",
       "          0.03247282,  0.33842859,  0.12876004,  0.84512025,  0.78289181,\n",
       "          0.13393693,  0.57534009,  0.7885108 ,  0.45889401,  0.842004  ,\n",
       "          0.57435167,  0.34394297,  0.62811071,  0.02576089,  0.71375006,\n",
       "          0.63385594,  0.86670518,  0.46273255],\n",
       "        [ 0.4357332 ,  0.8242687 ,  0.61214888,  0.69967365,  0.07287256,\n",
       "          0.54079896,  0.29075497,  0.97097927,  0.61511284,  0.06288047,\n",
       "          0.89335567,  0.46185929,  0.57210827,  0.94280881,  0.73756754,\n",
       "          0.39283511,  0.43505219,  0.08058129,  0.47475728,  0.6883896 ,\n",
       "          0.2559123 ,  0.90501016,  0.95090902,  0.14143918,  0.86026239,\n",
       "          0.69352692,  0.43739218,  0.97100037],\n",
       "        [ 0.89701337,  0.34327307,  0.93426055,  0.44615844,  0.22959319,\n",
       "          0.04039325,  0.77397764,  0.59111875,  0.47959507,  0.3395749 ,\n",
       "          0.86337733,  0.0900793 ,  0.44902894,  0.72204143,  0.81287599,\n",
       "          0.62046409,  0.88005567,  0.04189029,  0.55984795,  0.77650803,\n",
       "          0.2762289 ,  0.83438313,  0.61498493,  0.75924623,  0.58419955,\n",
       "          0.81283683,  0.89584237,  0.25199419],\n",
       "        [ 0.70151103,  0.90377969,  0.79919827,  0.35881236,  0.01851331,\n",
       "          0.40556988,  0.58434534,  0.75047517,  0.29617923,  0.95366806,\n",
       "          0.22820222,  0.79615009,  0.29562184,  0.6698814 ,  0.63584799,\n",
       "          0.39794719,  0.98819762,  0.2259028 ,  0.28837207,  0.84943032,\n",
       "          0.21492745,  0.58750474,  0.13609856,  0.70817369,  0.58164561,\n",
       "          0.45397398,  0.77254605,  0.22490773],\n",
       "        [ 0.97438282,  0.40883431,  0.44153586,  0.93711799,  0.15140688,\n",
       "          0.99535513,  0.88464922,  0.99708498,  0.43072855,  0.22399238,\n",
       "          0.16161221,  0.05256918,  0.72323751,  0.36408713,  0.1272312 ,\n",
       "          0.27210093,  0.46003446,  0.95664001,  0.06656708,  0.18312302,\n",
       "          0.56000024,  0.88818008,  0.65363926,  0.90453809,  0.47303835,\n",
       "          0.78436345,  0.02258005,  0.9157809 ],\n",
       "        [ 0.05039275,  0.38184169,  0.649472  ,  0.84296376,  0.5841133 ,\n",
       "          0.74632949,  0.36986601,  0.55674422,  0.45927081,  0.64254236,\n",
       "          0.66337007,  0.55253273,  0.77598405,  0.09420212,  0.47892758,\n",
       "          0.96590549,  0.82115799,  0.76774681,  0.69105089,  0.1960018 ,\n",
       "          0.00808698,  0.83418405,  0.01682574,  0.75878143,  0.31149924,\n",
       "          0.43153033,  0.23483446,  0.91872716],\n",
       "        [ 0.78566551,  0.41754451,  0.67505938,  0.71378082,  0.3142415 ,\n",
       "          0.22005816,  0.18734254,  0.0900503 ,  0.6196419 ,  0.96057487,\n",
       "          0.40508124,  0.08677241,  0.09354196,  0.76425964,  0.03759561,\n",
       "          0.68664408,  0.94753009,  0.13678023,  0.71422726,  0.92267025,\n",
       "          0.02837262,  0.52040583,  0.40569884,  0.37349826,  0.8342731 ,\n",
       "          0.43771335,  0.37956843,  0.39973661],\n",
       "        [ 0.36282286,  0.94366199,  0.79095322,  0.58710384,  0.16307369,\n",
       "          0.22236866,  0.72039557,  0.28594422,  0.2805481 ,  0.09629218,\n",
       "          0.46509045,  0.71498537,  0.29280519,  0.7186721 ,  0.14741541,\n",
       "          0.39165768,  0.96133584,  0.05125995,  0.06370033,  0.3061716 ,\n",
       "          0.52488047,  0.22400919,  0.26216525,  0.20225802,  0.13330016,\n",
       "          0.99077034,  0.51763779,  0.99085337],\n",
       "        [ 0.19436644,  0.03347883,  0.83649939,  0.39266485,  0.461211  ,\n",
       "          0.39867452,  0.51692516,  0.59934032,  0.38806707,  0.15005131,\n",
       "          0.38505885,  0.01873425,  0.04487661,  0.27205878,  0.16957848,\n",
       "          0.94526792,  0.20374152,  0.26164356,  0.39136145,  0.14034583,\n",
       "          0.4006373 ,  0.57080418,  0.45477003,  0.35172316,  0.72818077,\n",
       "          0.15404847,  0.84441793,  0.07526746],\n",
       "        [ 0.15552397,  0.447777  ,  0.441434  ,  0.96000314,  0.63255769,\n",
       "          0.17912397,  0.2868298 ,  0.5551303 ,  0.43514782,  0.97590768,\n",
       "          0.67191082,  0.75863248,  0.03273236,  0.77285784,  0.50996554,\n",
       "          0.47825712,  0.40608513,  0.42957371,  0.16173114,  0.04022375,\n",
       "          0.05094266,  0.67309666,  0.74401045,  0.94720072,  0.74466878,\n",
       "          0.38219452,  0.62536669,  0.41072598],\n",
       "        [ 0.3119173 ,  0.70694149,  0.45175171,  0.11356226,  0.50013769,\n",
       "          0.68394971,  0.41663608,  0.25044516,  0.3698186 ,  0.34474501,\n",
       "          0.96214497,  0.05270409,  0.58790463,  0.11029419,  0.47983027,\n",
       "          0.43033504,  0.95276678,  0.57158786,  0.80253977,  0.71038818,\n",
       "          0.25203145,  0.94095099,  0.93079621,  0.96186525,  0.26084176,\n",
       "          0.56533778,  0.33983082,  0.04380212],\n",
       "        [ 0.80824035,  0.89096826,  0.00772242,  0.23952371,  0.00862   ,\n",
       "          0.10828102,  0.94407278,  0.39493552,  0.87084502,  0.83052319,\n",
       "          0.85659391,  0.42058009,  0.45872748,  0.07455709,  0.76047462,\n",
       "          0.9628256 ,  0.29839015,  0.45615485,  0.4975352 ,  0.35508099,\n",
       "          0.81302184,  0.57064354,  0.0596477 ,  0.15834452,  0.4082745 ,\n",
       "          0.61255062,  0.78571731,  0.39121825],\n",
       "        [ 0.18168616,  0.67119539,  0.21349217,  0.83647656,  0.39843574,\n",
       "          0.51591516,  0.60776138,  0.65247428,  0.13551147,  0.44344172,\n",
       "          0.52908468,  0.14435948,  0.03137514,  0.87974858,  0.56985629,\n",
       "          0.30865693,  0.58149046,  0.32627332,  0.26218906,  0.89157939,\n",
       "          0.63316041,  0.21490118,  0.29562294,  0.71413618,  0.61881334,\n",
       "          0.10143942,  0.67166305,  0.9511053 ],\n",
       "        [ 0.66720903,  0.0723627 ,  0.51071995,  0.34444696,  0.05100425,\n",
       "          0.0942196 ,  0.1633272 ,  0.25649115,  0.57153094,  0.78585178,\n",
       "          0.43794245,  0.34644309,  0.23778154,  0.4631798 ,  0.75007302,\n",
       "          0.44922602,  0.14532097,  0.74508351,  0.60306895,  0.20234063,\n",
       "          0.09672713,  0.59221321,  0.55671072,  0.10377335,  0.93501031,\n",
       "          0.72454751,  0.91261023,  0.5322662 ],\n",
       "        [ 0.5551796 ,  0.91643929,  0.4298383 ,  0.53766036,  0.46733987,\n",
       "          0.10283066,  0.35152194,  0.31321496,  0.25122428,  0.20031625,\n",
       "          0.75523573,  0.46307468,  0.10867742,  0.76829159,  0.73212695,\n",
       "          0.58410186,  0.60745478,  0.98361707,  0.50266248,  0.98567355,\n",
       "          0.51108569,  0.87513834,  0.3229782 ,  0.78272963,  0.500898  ,\n",
       "          0.10299887,  0.99076891,  0.25620437],\n",
       "        [ 0.61790317,  0.20843048,  0.4761501 ,  0.88211763,  0.81193924,\n",
       "          0.98810172,  0.21168363,  0.71289432,  0.493137  ,  0.63436794,\n",
       "          0.09829985,  0.90661782,  0.77710533,  0.8079192 ,  0.21701761,\n",
       "          0.80846572,  0.43126771,  0.40001452,  0.86402512,  0.59711397,\n",
       "          0.34528235,  0.87231028,  0.34600106,  0.10309674,  0.26492298,\n",
       "          0.25493711,  0.32802862,  0.9320969 ],\n",
       "        [ 0.34496361,  0.99597615,  0.90242177,  0.09359127,  0.27012306,\n",
       "          0.57193655,  0.50955534,  0.95103937,  0.12711224,  0.98602986,\n",
       "          0.42711607,  0.77215463,  0.5569346 ,  0.09901397,  0.18808791,\n",
       "          0.08118919,  0.99103975,  0.60317242,  0.37731209,  0.5535509 ,\n",
       "          0.48507735,  0.21310091,  0.13722536,  0.53453648,  0.7605961 ,\n",
       "          0.85802501,  0.08075384,  0.68941206],\n",
       "        [ 0.76620275,  0.78011632,  0.87342036,  0.93735296,  0.30104467,\n",
       "          0.44406161,  0.10670302,  0.51178044,  0.30042645,  0.13574918,\n",
       "          0.93194062,  0.10184935,  0.51155293,  0.58380574,  0.1651341 ,\n",
       "          0.12377466,  0.47004426,  0.17838648,  0.51574135,  0.47693202,\n",
       "          0.36475873,  0.89458293,  0.33835864,  0.45525932,  0.03278982,\n",
       "          0.47108623,  0.68214679,  0.75234073],\n",
       "        [ 0.60247171,  0.72071964,  0.93544579,  0.72853911,  0.40271628,\n",
       "          0.10329819,  0.25469732,  0.20103748,  0.56187826,  0.67506659,\n",
       "          0.62276   ,  0.82772845,  0.25301933,  0.53235978,  0.61634696,\n",
       "          0.02949007,  0.50776833,  0.80905235,  0.85169631,  0.92291832,\n",
       "          0.7168383 ,  0.10590046,  0.11712633,  0.06394671,  0.44372392,\n",
       "          0.45401585,  0.34215617,  0.0375357 ],\n",
       "        [ 0.49909917,  0.9665454 ,  0.78008002,  0.80670148,  0.24567349,\n",
       "          0.45846358,  0.3776859 ,  0.62793308,  0.68039221,  0.14683448,\n",
       "          0.54123223,  0.05493367,  0.37527889,  0.1600327 ,  0.29969859,\n",
       "          0.50465924,  0.61503649,  0.24420454,  0.50041926,  0.82722044,\n",
       "          0.67485851,  0.55508304,  0.59612387,  0.85042447,  0.10001884,\n",
       "          0.60325003,  0.33635864,  0.92058063],\n",
       "        [ 0.39166501,  0.17998543,  0.99057269,  0.69676882,  0.32167447,\n",
       "          0.1878939 ,  0.81776148,  0.24639004,  0.37683517,  0.72598273,\n",
       "          0.39522064,  0.78932589,  0.16990881,  0.55610096,  0.99992752,\n",
       "          0.46562412,  0.17360128,  0.78628224,  0.39395708,  0.49901518,\n",
       "          0.51332003,  0.61292809,  0.95200413,  0.27071878,  0.74820077,\n",
       "          0.60290897,  0.85269058,  0.75497824],\n",
       "        [ 0.75071925,  0.29404718,  0.16141991,  0.91755664,  0.34736216,\n",
       "          0.12638257,  0.45574066,  0.02127749,  0.35747898,  0.67929357,\n",
       "          0.07783306,  0.91661686,  0.2189496 ,  0.45568648,  0.88871562,\n",
       "          0.36711898,  0.75379485,  0.46409735,  0.77689463,  0.96632046,\n",
       "          0.41611534,  0.63724935,  0.32717445,  0.62629002,  0.16783367,\n",
       "          0.66081774,  0.46369645,  0.11160521],\n",
       "        [ 0.02535646,  0.59536642,  0.88851929,  0.15833822,  0.19135146,\n",
       "          0.50128496,  0.7353611 ,  0.94329137,  0.05327476,  0.33559883,\n",
       "          0.47354189,  0.35273266,  0.87795419,  0.88644946,  0.77309525,\n",
       "          0.2792505 ,  0.27054304,  0.48878288,  0.29479778,  0.97696912,\n",
       "          0.98850238,  0.985811  ,  0.79705638,  0.28970188,  0.2564508 ,\n",
       "          0.54446852,  0.54462981,  0.2418604 ],\n",
       "        [ 0.74841553,  0.68043476,  0.83973932,  0.06556707,  0.15532215,\n",
       "          0.22531769,  0.35927483,  0.23684974,  0.1023075 ,  0.34981251,\n",
       "          0.52880651,  0.37907052,  0.76081145,  0.16764478,  0.78916633,\n",
       "          0.80490798,  0.96448398,  0.71528119,  0.01802735,  0.62074691,\n",
       "          0.3187024 ,  0.84427845,  0.7602163 ,  0.53492701,  0.67258537,\n",
       "          0.37126485,  0.24501906,  0.47563154],\n",
       "        [ 0.83730495,  0.88729316,  0.79886824,  0.76403648,  0.98264301,\n",
       "          0.86968899,  0.81249845,  0.39785379,  0.07477026,  0.01369809,\n",
       "          0.15859598,  0.1656158 ,  0.00860678,  0.76927733,  0.70078671,\n",
       "          0.46428302,  0.6678676 ,  0.69260347,  0.31234035,  0.0760804 ,\n",
       "          0.07033342,  0.84867263,  0.2332806 ,  0.81361675,  0.41888234,\n",
       "          0.42507461,  0.69842118,  0.33626935],\n",
       "        [ 0.0367845 ,  0.95804632,  0.83914798,  0.75023317,  0.5028224 ,\n",
       "          0.11971203,  0.18159531,  0.9028309 ,  0.80777711,  0.93899971,\n",
       "          0.16582051,  0.41270354,  0.62174672,  0.8765803 ,  0.33269885,\n",
       "          0.92935872,  0.49109656,  0.00889182,  0.51396739,  0.89378023,\n",
       "          0.20043109,  0.24475737,  0.12231132,  0.06986887,  0.90115535,\n",
       "          0.06585721,  0.80260897,  0.65342444],\n",
       "        [ 0.49311742,  0.47690734,  0.79235166,  0.99342597,  0.36940151,\n",
       "          0.77491158,  0.7948755 ,  0.27552634,  0.07791693,  0.38445079,\n",
       "          0.80755097,  0.82370675,  0.39546967,  0.6983937 ,  0.44654924,\n",
       "          0.29170477,  0.52592528,  0.5895347 ,  0.04911352,  0.08154512,\n",
       "          0.37854782,  0.04530969,  0.35363188,  0.72629261,  0.06728552,\n",
       "          0.21261238,  0.2013105 ,  0.04173218]]], dtype=float32)"
      ]
     },
     "execution_count": 111,
     "metadata": {},
     "output_type": "execute_result"
    }
   ],
   "source": [
    "x[1,:1]"
   ]
  },
  {
   "cell_type": "code",
   "execution_count": 112,
   "metadata": {},
   "outputs": [
    {
     "ename": "ValueError",
     "evalue": "cannot reshape array of size 1 into shape (28,)",
     "output_type": "error",
     "traceback": [
      "\u001b[1;31m---------------------------------------------------------------------------\u001b[0m",
      "\u001b[1;31mAttributeError\u001b[0m                            Traceback (most recent call last)",
      "\u001b[1;32mC:\\Users\\Luca\\Anaconda3\\lib\\site-packages\\numpy\\core\\fromnumeric.py\u001b[0m in \u001b[0;36m_wrapfunc\u001b[1;34m(obj, method, *args, **kwds)\u001b[0m\n\u001b[0;32m     56\u001b[0m     \u001b[1;32mtry\u001b[0m\u001b[1;33m:\u001b[0m\u001b[1;33m\u001b[0m\u001b[0m\n\u001b[1;32m---> 57\u001b[1;33m         \u001b[1;32mreturn\u001b[0m \u001b[0mgetattr\u001b[0m\u001b[1;33m(\u001b[0m\u001b[0mobj\u001b[0m\u001b[1;33m,\u001b[0m \u001b[0mmethod\u001b[0m\u001b[1;33m)\u001b[0m\u001b[1;33m(\u001b[0m\u001b[1;33m*\u001b[0m\u001b[0margs\u001b[0m\u001b[1;33m,\u001b[0m \u001b[1;33m**\u001b[0m\u001b[0mkwds\u001b[0m\u001b[1;33m)\u001b[0m\u001b[1;33m\u001b[0m\u001b[0m\n\u001b[0m\u001b[0;32m     58\u001b[0m \u001b[1;33m\u001b[0m\u001b[0m\n",
      "\u001b[1;31mAttributeError\u001b[0m: 'int' object has no attribute 'reshape'",
      "\nDuring handling of the above exception, another exception occurred:\n",
      "\u001b[1;31mValueError\u001b[0m                                Traceback (most recent call last)",
      "\u001b[1;32m<ipython-input-112-acf6cc16634c>\u001b[0m in \u001b[0;36m<module>\u001b[1;34m()\u001b[0m\n\u001b[0;32m      5\u001b[0m \u001b[1;33m\u001b[0m\u001b[0m\n\u001b[0;32m      6\u001b[0m \u001b[1;33m\u001b[0m\u001b[0m\n\u001b[1;32m----> 7\u001b[1;33m \u001b[0mplt\u001b[0m\u001b[1;33m.\u001b[0m\u001b[0mimshow\u001b[0m\u001b[1;33m(\u001b[0m\u001b[0mx\u001b[0m\u001b[1;33m[\u001b[0m\u001b[1;36m2\u001b[0m\u001b[1;33m]\u001b[0m\u001b[1;33m,\u001b[0m\u001b[0mnp\u001b[0m\u001b[1;33m.\u001b[0m\u001b[0mreshape\u001b[0m\u001b[1;33m(\u001b[0m\u001b[1;36m28\u001b[0m\u001b[1;33m,\u001b[0m\u001b[1;36m28\u001b[0m\u001b[1;33m)\u001b[0m\u001b[1;33m)\u001b[0m\u001b[1;33m\u001b[0m\u001b[0m\n\u001b[0m",
      "\u001b[1;32mC:\\Users\\Luca\\Anaconda3\\lib\\site-packages\\numpy\\core\\fromnumeric.py\u001b[0m in \u001b[0;36mreshape\u001b[1;34m(a, newshape, order)\u001b[0m\n\u001b[0;32m    230\u001b[0m            [5, 6]])\n\u001b[0;32m    231\u001b[0m     \"\"\"\n\u001b[1;32m--> 232\u001b[1;33m     \u001b[1;32mreturn\u001b[0m \u001b[0m_wrapfunc\u001b[0m\u001b[1;33m(\u001b[0m\u001b[0ma\u001b[0m\u001b[1;33m,\u001b[0m \u001b[1;34m'reshape'\u001b[0m\u001b[1;33m,\u001b[0m \u001b[0mnewshape\u001b[0m\u001b[1;33m,\u001b[0m \u001b[0morder\u001b[0m\u001b[1;33m=\u001b[0m\u001b[0morder\u001b[0m\u001b[1;33m)\u001b[0m\u001b[1;33m\u001b[0m\u001b[0m\n\u001b[0m\u001b[0;32m    233\u001b[0m \u001b[1;33m\u001b[0m\u001b[0m\n\u001b[0;32m    234\u001b[0m \u001b[1;33m\u001b[0m\u001b[0m\n",
      "\u001b[1;32mC:\\Users\\Luca\\Anaconda3\\lib\\site-packages\\numpy\\core\\fromnumeric.py\u001b[0m in \u001b[0;36m_wrapfunc\u001b[1;34m(obj, method, *args, **kwds)\u001b[0m\n\u001b[0;32m     65\u001b[0m     \u001b[1;31m# a downstream library like 'pandas'.\u001b[0m\u001b[1;33m\u001b[0m\u001b[1;33m\u001b[0m\u001b[0m\n\u001b[0;32m     66\u001b[0m     \u001b[1;32mexcept\u001b[0m \u001b[1;33m(\u001b[0m\u001b[0mAttributeError\u001b[0m\u001b[1;33m,\u001b[0m \u001b[0mTypeError\u001b[0m\u001b[1;33m)\u001b[0m\u001b[1;33m:\u001b[0m\u001b[1;33m\u001b[0m\u001b[0m\n\u001b[1;32m---> 67\u001b[1;33m         \u001b[1;32mreturn\u001b[0m \u001b[0m_wrapit\u001b[0m\u001b[1;33m(\u001b[0m\u001b[0mobj\u001b[0m\u001b[1;33m,\u001b[0m \u001b[0mmethod\u001b[0m\u001b[1;33m,\u001b[0m \u001b[1;33m*\u001b[0m\u001b[0margs\u001b[0m\u001b[1;33m,\u001b[0m \u001b[1;33m**\u001b[0m\u001b[0mkwds\u001b[0m\u001b[1;33m)\u001b[0m\u001b[1;33m\u001b[0m\u001b[0m\n\u001b[0m\u001b[0;32m     68\u001b[0m \u001b[1;33m\u001b[0m\u001b[0m\n\u001b[0;32m     69\u001b[0m \u001b[1;33m\u001b[0m\u001b[0m\n",
      "\u001b[1;32mC:\\Users\\Luca\\Anaconda3\\lib\\site-packages\\numpy\\core\\fromnumeric.py\u001b[0m in \u001b[0;36m_wrapit\u001b[1;34m(obj, method, *args, **kwds)\u001b[0m\n\u001b[0;32m     45\u001b[0m     \u001b[1;32mexcept\u001b[0m \u001b[0mAttributeError\u001b[0m\u001b[1;33m:\u001b[0m\u001b[1;33m\u001b[0m\u001b[0m\n\u001b[0;32m     46\u001b[0m         \u001b[0mwrap\u001b[0m \u001b[1;33m=\u001b[0m \u001b[1;32mNone\u001b[0m\u001b[1;33m\u001b[0m\u001b[0m\n\u001b[1;32m---> 47\u001b[1;33m     \u001b[0mresult\u001b[0m \u001b[1;33m=\u001b[0m \u001b[0mgetattr\u001b[0m\u001b[1;33m(\u001b[0m\u001b[0masarray\u001b[0m\u001b[1;33m(\u001b[0m\u001b[0mobj\u001b[0m\u001b[1;33m)\u001b[0m\u001b[1;33m,\u001b[0m \u001b[0mmethod\u001b[0m\u001b[1;33m)\u001b[0m\u001b[1;33m(\u001b[0m\u001b[1;33m*\u001b[0m\u001b[0margs\u001b[0m\u001b[1;33m,\u001b[0m \u001b[1;33m**\u001b[0m\u001b[0mkwds\u001b[0m\u001b[1;33m)\u001b[0m\u001b[1;33m\u001b[0m\u001b[0m\n\u001b[0m\u001b[0;32m     48\u001b[0m     \u001b[1;32mif\u001b[0m \u001b[0mwrap\u001b[0m\u001b[1;33m:\u001b[0m\u001b[1;33m\u001b[0m\u001b[0m\n\u001b[0;32m     49\u001b[0m         \u001b[1;32mif\u001b[0m \u001b[1;32mnot\u001b[0m \u001b[0misinstance\u001b[0m\u001b[1;33m(\u001b[0m\u001b[0mresult\u001b[0m\u001b[1;33m,\u001b[0m \u001b[0mmu\u001b[0m\u001b[1;33m.\u001b[0m\u001b[0mndarray\u001b[0m\u001b[1;33m)\u001b[0m\u001b[1;33m:\u001b[0m\u001b[1;33m\u001b[0m\u001b[0m\n",
      "\u001b[1;31mValueError\u001b[0m: cannot reshape array of size 1 into shape (28,)"
     ]
    }
   ],
   "source": [
    "#example of random noise , starting point for the GEN and the loss calcilation\n",
    "\n",
    "#I can't rehsape it to visualize an image, i can do only if x= np.random.rand(100,28, 28,).astype(np.float32) but if I add that 1\n",
    "##which is done on the chainer tutorial i can't reshape it\n",
    "\n",
    "\n",
    "plt.imshow(x[2],np.reshape(28,28))"
   ]
  },
  {
   "cell_type": "code",
   "execution_count": 113,
   "metadata": {},
   "outputs": [],
   "source": [
    "#label is always 0 as we are interested only in the generation of number 0s\n",
    "##so we create an array of length 100 of only 0s which are the label of our \"noisy\" images that we use to compute the loss\n",
    "t= np.zeros(100)"
   ]
  },
  {
   "cell_type": "markdown",
   "metadata": {},
   "source": [
    "# below the error I get, \n",
    "### i am following the way they feed the generator of LeNEt5 here\n",
    "\n",
    "https://docs.chainer.org/en/stable/tutorial/convnet.html"
   ]
  },
  {
   "cell_type": "code",
   "execution_count": 123,
   "metadata": {},
   "outputs": [
    {
     "ename": "InvalidType",
     "evalue": "\nInvalid operation is performed in: BatchNormalizationFunction (Forward)\n\nExpect: in_types[0].shape[1:2] == in_types[1].shape\nActual: (784,) != (5,)",
     "output_type": "error",
     "traceback": [
      "\u001b[1;31m---------------------------------------------------------------------------\u001b[0m",
      "\u001b[1;31mInvalidType\u001b[0m                               Traceback (most recent call last)",
      "\u001b[1;32m<ipython-input-123-1d5cac2c70ae>\u001b[0m in \u001b[0;36m<module>\u001b[1;34m()\u001b[0m\n\u001b[0;32m      1\u001b[0m \u001b[1;31m# Forward computation\u001b[0m\u001b[1;33m\u001b[0m\u001b[1;33m\u001b[0m\u001b[0m\n\u001b[1;32m----> 2\u001b[1;33m \u001b[0my\u001b[0m \u001b[1;33m=\u001b[0m \u001b[0mmodel\u001b[0m\u001b[1;33m(\u001b[0m\u001b[0mx\u001b[0m\u001b[1;33m)\u001b[0m\u001b[1;33m\u001b[0m\u001b[0m\n\u001b[0m",
      "\u001b[1;32m<ipython-input-106-20f8095ca8de>\u001b[0m in \u001b[0;36m__call__\u001b[1;34m(self, x)\u001b[0m\n\u001b[0;32m     13\u001b[0m     \u001b[1;32mdef\u001b[0m \u001b[0m__call__\u001b[0m\u001b[1;33m(\u001b[0m\u001b[0mself\u001b[0m\u001b[1;33m,\u001b[0m \u001b[0mx\u001b[0m\u001b[1;33m)\u001b[0m\u001b[1;33m:\u001b[0m\u001b[1;33m\u001b[0m\u001b[0m\n\u001b[0;32m     14\u001b[0m         \u001b[0mh1\u001b[0m \u001b[1;33m=\u001b[0m \u001b[0mF\u001b[0m\u001b[1;33m.\u001b[0m\u001b[0mrelu\u001b[0m\u001b[1;33m(\u001b[0m\u001b[0mself\u001b[0m\u001b[1;33m.\u001b[0m\u001b[0ml1\u001b[0m\u001b[1;33m(\u001b[0m\u001b[0mx\u001b[0m\u001b[1;33m)\u001b[0m\u001b[1;33m)\u001b[0m\u001b[1;33m\u001b[0m\u001b[0m\n\u001b[1;32m---> 15\u001b[1;33m         \u001b[0mh2\u001b[0m \u001b[1;33m=\u001b[0m \u001b[0mself\u001b[0m\u001b[1;33m.\u001b[0m\u001b[0mbatch_norm\u001b[0m\u001b[1;33m(\u001b[0m\u001b[0mh1\u001b[0m\u001b[1;33m)\u001b[0m\u001b[1;33m\u001b[0m\u001b[0m\n\u001b[0m\u001b[0;32m     16\u001b[0m         \u001b[0my\u001b[0m \u001b[1;33m=\u001b[0m \u001b[0mself\u001b[0m\u001b[1;33m.\u001b[0m\u001b[0mdeconv\u001b[0m\u001b[1;33m(\u001b[0m\u001b[0mh2\u001b[0m\u001b[1;33m)\u001b[0m\u001b[1;33m\u001b[0m\u001b[0m\n\u001b[0;32m     17\u001b[0m         \u001b[1;32mreturn\u001b[0m \u001b[0my\u001b[0m\u001b[1;33m\u001b[0m\u001b[0m\n",
      "\u001b[1;32mC:\\Users\\Luca\\Anaconda3\\lib\\site-packages\\chainer\\links\\normalization\\batch_normalization.py\u001b[0m in \u001b[0;36m__call__\u001b[1;34m(self, x, **kwargs)\u001b[0m\n\u001b[0;32m    141\u001b[0m             func = batch_normalization.BatchNormalizationFunction(\n\u001b[0;32m    142\u001b[0m                 self.eps, self.avg_mean, self.avg_var, decay)\n\u001b[1;32m--> 143\u001b[1;33m             \u001b[0mret\u001b[0m \u001b[1;33m=\u001b[0m \u001b[0mfunc\u001b[0m\u001b[1;33m(\u001b[0m\u001b[0mx\u001b[0m\u001b[1;33m,\u001b[0m \u001b[0mgamma\u001b[0m\u001b[1;33m,\u001b[0m \u001b[0mbeta\u001b[0m\u001b[1;33m)\u001b[0m\u001b[1;33m\u001b[0m\u001b[0m\n\u001b[0m\u001b[0;32m    144\u001b[0m \u001b[1;33m\u001b[0m\u001b[0m\n\u001b[0;32m    145\u001b[0m             \u001b[0mself\u001b[0m\u001b[1;33m.\u001b[0m\u001b[0mavg_mean\u001b[0m\u001b[1;33m[\u001b[0m\u001b[1;33m:\u001b[0m\u001b[1;33m]\u001b[0m \u001b[1;33m=\u001b[0m \u001b[0mfunc\u001b[0m\u001b[1;33m.\u001b[0m\u001b[0mrunning_mean\u001b[0m\u001b[1;33m\u001b[0m\u001b[0m\n",
      "\u001b[1;32mC:\\Users\\Luca\\Anaconda3\\lib\\site-packages\\chainer\\function.py\u001b[0m in \u001b[0;36m__call__\u001b[1;34m(self, *inputs)\u001b[0m\n\u001b[0;32m    186\u001b[0m \u001b[1;33m\u001b[0m\u001b[0m\n\u001b[0;32m    187\u001b[0m         \u001b[1;32mif\u001b[0m \u001b[0mconfiguration\u001b[0m\u001b[1;33m.\u001b[0m\u001b[0mconfig\u001b[0m\u001b[1;33m.\u001b[0m\u001b[0mtype_check\u001b[0m\u001b[1;33m:\u001b[0m\u001b[1;33m\u001b[0m\u001b[0m\n\u001b[1;32m--> 188\u001b[1;33m             \u001b[0mself\u001b[0m\u001b[1;33m.\u001b[0m\u001b[0m_check_data_type_forward\u001b[0m\u001b[1;33m(\u001b[0m\u001b[0min_data\u001b[0m\u001b[1;33m)\u001b[0m\u001b[1;33m\u001b[0m\u001b[0m\n\u001b[0m\u001b[0;32m    189\u001b[0m \u001b[1;33m\u001b[0m\u001b[0m\n\u001b[0;32m    190\u001b[0m         \u001b[0mhooks\u001b[0m \u001b[1;33m=\u001b[0m \u001b[0mchainer\u001b[0m\u001b[1;33m.\u001b[0m\u001b[0mget_function_hooks\u001b[0m\u001b[1;33m(\u001b[0m\u001b[1;33m)\u001b[0m\u001b[1;33m\u001b[0m\u001b[0m\n",
      "\u001b[1;32mC:\\Users\\Luca\\Anaconda3\\lib\\site-packages\\chainer\\function.py\u001b[0m in \u001b[0;36m_check_data_type_forward\u001b[1;34m(self, in_data)\u001b[0m\n\u001b[0;32m    290\u001b[0m         \u001b[0min_type\u001b[0m \u001b[1;33m=\u001b[0m \u001b[0mtype_check\u001b[0m\u001b[1;33m.\u001b[0m\u001b[0mget_types\u001b[0m\u001b[1;33m(\u001b[0m\u001b[0min_data\u001b[0m\u001b[1;33m,\u001b[0m \u001b[1;34m'in_types'\u001b[0m\u001b[1;33m,\u001b[0m \u001b[1;32mFalse\u001b[0m\u001b[1;33m)\u001b[0m\u001b[1;33m\u001b[0m\u001b[0m\n\u001b[0;32m    291\u001b[0m         \u001b[1;32mwith\u001b[0m \u001b[0mtype_check\u001b[0m\u001b[1;33m.\u001b[0m\u001b[0mget_function_check_context\u001b[0m\u001b[1;33m(\u001b[0m\u001b[0mself\u001b[0m\u001b[1;33m)\u001b[0m\u001b[1;33m:\u001b[0m\u001b[1;33m\u001b[0m\u001b[0m\n\u001b[1;32m--> 292\u001b[1;33m             \u001b[0mself\u001b[0m\u001b[1;33m.\u001b[0m\u001b[0mcheck_type_forward\u001b[0m\u001b[1;33m(\u001b[0m\u001b[0min_type\u001b[0m\u001b[1;33m)\u001b[0m\u001b[1;33m\u001b[0m\u001b[0m\n\u001b[0m\u001b[0;32m    293\u001b[0m \u001b[1;33m\u001b[0m\u001b[0m\n\u001b[0;32m    294\u001b[0m     \u001b[1;32mdef\u001b[0m \u001b[0mcheck_type_forward\u001b[0m\u001b[1;33m(\u001b[0m\u001b[0mself\u001b[0m\u001b[1;33m,\u001b[0m \u001b[0min_types\u001b[0m\u001b[1;33m)\u001b[0m\u001b[1;33m:\u001b[0m\u001b[1;33m\u001b[0m\u001b[0m\n",
      "\u001b[1;32mC:\\Users\\Luca\\Anaconda3\\lib\\site-packages\\chainer\\functions\\normalization\\batch_normalization.py\u001b[0m in \u001b[0;36mcheck_type_forward\u001b[1;34m(self, in_types)\u001b[0m\n\u001b[0;32m     61\u001b[0m             \u001b[0mgamma_type\u001b[0m\u001b[1;33m.\u001b[0m\u001b[0mdtype\u001b[0m \u001b[1;33m==\u001b[0m \u001b[0mx_type\u001b[0m\u001b[1;33m.\u001b[0m\u001b[0mdtype\u001b[0m\u001b[1;33m,\u001b[0m\u001b[1;33m\u001b[0m\u001b[0m\n\u001b[0;32m     62\u001b[0m             \u001b[0mbeta_type\u001b[0m\u001b[1;33m.\u001b[0m\u001b[0mdtype\u001b[0m \u001b[1;33m==\u001b[0m \u001b[0mx_type\u001b[0m\u001b[1;33m.\u001b[0m\u001b[0mdtype\u001b[0m\u001b[1;33m,\u001b[0m\u001b[1;33m\u001b[0m\u001b[0m\n\u001b[1;32m---> 63\u001b[1;33m             \u001b[0mgamma_type\u001b[0m\u001b[1;33m.\u001b[0m\u001b[0mshape\u001b[0m \u001b[1;33m==\u001b[0m \u001b[0mbeta_type\u001b[0m\u001b[1;33m.\u001b[0m\u001b[0mshape\u001b[0m\u001b[1;33m,\u001b[0m\u001b[1;33m\u001b[0m\u001b[0m\n\u001b[0m\u001b[0;32m     64\u001b[0m         )\n\u001b[0;32m     65\u001b[0m         \u001b[1;32mif\u001b[0m \u001b[0mlen\u001b[0m\u001b[1;33m(\u001b[0m\u001b[0min_types\u001b[0m\u001b[1;33m)\u001b[0m \u001b[1;33m==\u001b[0m \u001b[1;36m5\u001b[0m\u001b[1;33m:\u001b[0m\u001b[1;33m\u001b[0m\u001b[0m\n",
      "\u001b[1;32mC:\\Users\\Luca\\Anaconda3\\lib\\site-packages\\chainer\\utils\\type_check.py\u001b[0m in \u001b[0;36mexpect\u001b[1;34m(*bool_exprs)\u001b[0m\n\u001b[0;32m    512\u001b[0m         \u001b[1;32mfor\u001b[0m \u001b[0mexpr\u001b[0m \u001b[1;32min\u001b[0m \u001b[0mbool_exprs\u001b[0m\u001b[1;33m:\u001b[0m\u001b[1;33m\u001b[0m\u001b[0m\n\u001b[0;32m    513\u001b[0m             \u001b[1;32massert\u001b[0m \u001b[0misinstance\u001b[0m\u001b[1;33m(\u001b[0m\u001b[0mexpr\u001b[0m\u001b[1;33m,\u001b[0m \u001b[0mTestable\u001b[0m\u001b[1;33m)\u001b[0m\u001b[1;33m\u001b[0m\u001b[0m\n\u001b[1;32m--> 514\u001b[1;33m             \u001b[0mexpr\u001b[0m\u001b[1;33m.\u001b[0m\u001b[0mexpect\u001b[0m\u001b[1;33m(\u001b[0m\u001b[1;33m)\u001b[0m\u001b[1;33m\u001b[0m\u001b[0m\n\u001b[0m\u001b[0;32m    515\u001b[0m \u001b[1;33m\u001b[0m\u001b[0m\n\u001b[0;32m    516\u001b[0m \u001b[1;33m\u001b[0m\u001b[0m\n",
      "\u001b[1;32mC:\\Users\\Luca\\Anaconda3\\lib\\site-packages\\chainer\\utils\\type_check.py\u001b[0m in \u001b[0;36mexpect\u001b[1;34m(self)\u001b[0m\n\u001b[0;32m    470\u001b[0m             raise InvalidType(\n\u001b[0;32m    471\u001b[0m                 \u001b[1;34m'{0} {1} {2}'\u001b[0m\u001b[1;33m.\u001b[0m\u001b[0mformat\u001b[0m\u001b[1;33m(\u001b[0m\u001b[0mself\u001b[0m\u001b[1;33m.\u001b[0m\u001b[0mlhs\u001b[0m\u001b[1;33m,\u001b[0m \u001b[0mself\u001b[0m\u001b[1;33m.\u001b[0m\u001b[0mexp\u001b[0m\u001b[1;33m,\u001b[0m \u001b[0mself\u001b[0m\u001b[1;33m.\u001b[0m\u001b[0mrhs\u001b[0m\u001b[1;33m)\u001b[0m\u001b[1;33m,\u001b[0m\u001b[1;33m\u001b[0m\u001b[0m\n\u001b[1;32m--> 472\u001b[1;33m                 '{0} {1} {2}'.format(left, self.inv, right))\n\u001b[0m\u001b[0;32m    473\u001b[0m \u001b[1;33m\u001b[0m\u001b[0m\n\u001b[0;32m    474\u001b[0m \u001b[1;33m\u001b[0m\u001b[0m\n",
      "\u001b[1;31mInvalidType\u001b[0m: \nInvalid operation is performed in: BatchNormalizationFunction (Forward)\n\nExpect: in_types[0].shape[1:2] == in_types[1].shape\nActual: (784,) != (5,)"
     ]
    }
   ],
   "source": [
    "\n",
    "\n",
    "\n",
    "\n",
    "# Forward computation\n",
    "y = model(x)"
   ]
  },
  {
   "cell_type": "code",
   "execution_count": 115,
   "metadata": {
    "collapsed": true
   },
   "outputs": [],
   "source": [
    "x1 = np.random.rand(32, 1, 28, 28).astype(np.float32)"
   ]
  },
  {
   "cell_type": "code",
   "execution_count": 116,
   "metadata": {},
   "outputs": [
    {
     "data": {
      "text/plain": [
       "32"
      ]
     },
     "execution_count": 116,
     "metadata": {},
     "output_type": "execute_result"
    }
   ],
   "source": [
    "len(x1)"
   ]
  },
  {
   "cell_type": "code",
   "execution_count": null,
   "metadata": {
    "collapsed": true
   },
   "outputs": [],
   "source": []
  },
  {
   "cell_type": "code",
   "execution_count": null,
   "metadata": {
    "collapsed": true
   },
   "outputs": [],
   "source": [
    "batchsize = 128\n",
    "\n",
    "train_iter = iterators.SerialIterator(train, batchsize)\n",
    "test_iter = iterators.SerialIterator(test, batchsize,\n",
    "                                     repeat=False, shuffle=False)"
   ]
  }
 ],
 "metadata": {
  "kernelspec": {
   "display_name": "Python 3",
   "language": "python",
   "name": "python3"
  },
  "language_info": {
   "codemirror_mode": {
    "name": "ipython",
    "version": 3
   },
   "file_extension": ".py",
   "mimetype": "text/x-python",
   "name": "python",
   "nbconvert_exporter": "python",
   "pygments_lexer": "ipython3",
   "version": "3.6.1"
  }
 },
 "nbformat": 4,
 "nbformat_minor": 1
}
