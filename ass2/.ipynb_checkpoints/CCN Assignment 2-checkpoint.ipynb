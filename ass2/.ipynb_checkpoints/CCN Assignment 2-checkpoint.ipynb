{
 "cells": [
  {
   "cell_type": "markdown",
   "metadata": {},
   "source": [
    "# Computational Cognitive Neuroscience: assignment 2\n",
    "\n",
    "By: \n",
    "Emiel Stoelinga, s4837584 & Luca Parolo, s1009497"
   ]
  },
  {
   "cell_type": "markdown",
   "metadata": {},
   "source": [
    "First the required libraries are imported."
   ]
  },
  {
   "cell_type": "code",
   "execution_count": 2,
   "metadata": {
    "collapsed": false
   },
   "outputs": [],
   "source": [
    "%matplotlib inline\n",
    "\n",
    "import numpy as np\n",
    "import chainer\n",
    "from chainer import cuda, Function, gradient_check, report, training, utils, Variable\n",
    "from chainer import datasets, iterators, optimizers, serializers\n",
    "from chainer import Link, Chain, ChainList\n",
    "import chainer.functions as F\n",
    "import chainer.links as L\n",
    "from chainer.training import extensions\n",
    "from chainer.dataset import concat_examples\n",
    "\n",
    "from utils import get_mnist\n",
    "\n",
    "import matplotlib.pyplot as plt"
   ]
  },
  {
   "cell_type": "markdown",
   "metadata": {},
   "source": [
    "## Question 2"
   ]
  },
  {
   "cell_type": "markdown",
   "metadata": {},
   "source": [
    "A small convolutional network consisiting of one convolutional layer, a max pooling layer and a fully connected layer should be constructed and should be trained on the MNIST dataset.\n",
    "\n",
    "First, a class is constructed which represents the network."
   ]
  },
  {
   "cell_type": "code",
   "execution_count": 36,
   "metadata": {
    "collapsed": true
   },
   "outputs": [],
   "source": [
    "class SmallConv(Chain):\n",
    "    def __init__(self, n_out):\n",
    "        super(SmallConv, self).__init__()\n",
    "        with self.init_scope():\n",
    "            self.conv1 = L.Convolution2D(None, out_channels=5, ksize=5, stride=1, pad=0) # Convolutional layer\n",
    "            self.fc1 = L.Linear(None, n_out) # Fully connected layer\n",
    "\n",
    "    def __call__(self, x):\n",
    "        h1 = self.conv1(x)\n",
    "        h2 = F.max_pooling_2d(h1, ksize=5, stride=1, pad=0) # Max pooling layer\n",
    "        y = self.fc1(h2)\n",
    "        return y"
   ]
  },
  {
   "cell_type": "markdown",
   "metadata": {},
   "source": [
    "In order to train the network, a training function is built. For every epoch, the function forwards a new mini-batch through the network, computes the loss and backwards the loss through the network such that variables can be updated. Furthermore, the network is evaluated by forwarding the test set of 100 images through it.\n",
    "\n",
    "For both operations, the loss is printed and stored, such that it can be plotted after training. "
   ]
  },
  {
   "cell_type": "code",
   "execution_count": 37,
   "metadata": {
    "collapsed": false
   },
   "outputs": [],
   "source": [
    "def run(train_iter, val_iter, test_data, model, optimizer, max_epoch):\n",
    "    training_losses = []\n",
    "    validation_losses = []\n",
    "\n",
    "    while train_iter.epoch < max_epoch:\n",
    "        # Get next mini-batch\n",
    "        batch = train_iter.next()\n",
    "        image_train, target_train = concat_examples(batch)\n",
    "\n",
    "        # Prediction\n",
    "        prediction_train = model(image_train)\n",
    "\n",
    "        # Compute loss\n",
    "        loss = F.softmax_cross_entropy(prediction_train, target_train)\n",
    "\n",
    "        # Compute gradients\n",
    "        model.cleargrads()\n",
    "        loss.backward()\n",
    "\n",
    "        # Update variables\n",
    "        optimizer.update()\n",
    "\n",
    "        # Check the validation accuracy of prediction after every epoch\n",
    "        if train_iter.is_new_epoch:  # If this iteration is the final iteration of the current epoch\n",
    "\n",
    "            # Display the training loss\n",
    "            print('epoch:{:02d} train_loss:{:.04f} '.format(train_iter.epoch, float(loss.data)))\n",
    "            training_losses.append(float(loss.data))\n",
    "\n",
    "            val_losses = []\n",
    "            val_accuracies = []\n",
    "            while True:\n",
    "                val_batch = val_iter.next()\n",
    "                image_val, target_val = concat_examples(val_batch)\n",
    "\n",
    "                # Forward the validation data\n",
    "                prediction_val = model(image_val)\n",
    "\n",
    "                # Calculate the loss\n",
    "                loss_val = F.softmax_cross_entropy(prediction_val, target_val)\n",
    "                val_losses.append(loss_val.data)\n",
    "\n",
    "                # Calculate the accuracy\n",
    "                accuracy = F.accuracy(prediction_val, target_val)\n",
    "                val_accuracies.append(accuracy.data)\n",
    "\n",
    "                if val_iter.is_new_epoch:\n",
    "                    val_iter.epoch = 0\n",
    "                    val_iter.current_position = 0\n",
    "                    val_iter.is_new_epoch = False\n",
    "                    val_iter._pushed_position = None\n",
    "\n",
    "                    validation_losses.append(np.mean(val_losses))\n",
    "                    break\n",
    "\n",
    "            print('val_loss:{:.04f} val_accuracy:{:.04f}'.format(np.mean(val_losses), np.mean(val_accuracies)))\n",
    "\n",
    "    # Predict full test set\n",
    "    image_test, target_test = concat_examples(test_data)\n",
    "    # Forward test data\n",
    "    prediction_test = model(image_test)\n",
    "    # Calculate loss and accuracy\n",
    "    loss_test = F.softmax_cross_entropy(prediction_test, target_test)\n",
    "    accuracy_test = F.accuracy(prediction_test, target_test)\n",
    "\n",
    "    print('test_loss: ' + str(loss_test.data) + ' test_accuracy: ' + str(accuracy_test.data))\n",
    "    return training_losses, validation_losses"
   ]
  },
  {
   "cell_type": "markdown",
   "metadata": {},
   "source": [
    "The full proces is run in the main function. First, the data is downloaded. Then, iterators are constructed which iterate over the data for every epoch. Then the model and the optimizer are constructed and last, the model is trained. "
   ]
  },
  {
   "cell_type": "code",
   "execution_count": 39,
   "metadata": {
    "collapsed": false
   },
   "outputs": [
    {
     "name": "stdout",
     "output_type": "stream",
     "text": [
      "epoch:01 train_loss:2.0638 \n",
      "val_loss:2.0870 val_accuracy:0.3840\n",
      "epoch:02 train_loss:1.7619 \n",
      "val_loss:1.7259 val_accuracy:0.6410\n",
      "epoch:03 train_loss:1.2919 \n",
      "val_loss:1.2480 val_accuracy:0.6640\n",
      "epoch:04 train_loss:0.6707 \n",
      "val_loss:0.8479 val_accuracy:0.7970\n",
      "epoch:05 train_loss:0.6173 \n",
      "val_loss:0.6792 val_accuracy:0.8100\n",
      "epoch:06 train_loss:0.3185 \n",
      "val_loss:0.5647 val_accuracy:0.8350\n",
      "epoch:07 train_loss:0.3097 \n",
      "val_loss:0.5571 val_accuracy:0.8160\n",
      "epoch:08 train_loss:0.3965 \n",
      "val_loss:0.4539 val_accuracy:0.8690\n",
      "epoch:09 train_loss:0.3090 \n",
      "val_loss:0.4308 val_accuracy:0.8690\n",
      "epoch:10 train_loss:0.2646 \n",
      "val_loss:0.4135 val_accuracy:0.8680\n",
      "epoch:11 train_loss:0.2675 \n",
      "val_loss:0.3876 val_accuracy:0.8810\n",
      "epoch:12 train_loss:0.0915 \n",
      "val_loss:0.3412 val_accuracy:0.8970\n",
      "epoch:13 train_loss:0.3533 \n",
      "val_loss:0.3730 val_accuracy:0.8780\n",
      "epoch:14 train_loss:0.5940 \n",
      "val_loss:0.3556 val_accuracy:0.8860\n",
      "epoch:15 train_loss:0.2380 \n",
      "val_loss:0.3048 val_accuracy:0.9000\n",
      "epoch:16 train_loss:0.0819 \n",
      "val_loss:0.2936 val_accuracy:0.9160\n",
      "epoch:17 train_loss:0.2959 \n",
      "val_loss:0.2752 val_accuracy:0.9130\n",
      "epoch:18 train_loss:0.0606 \n",
      "val_loss:0.2740 val_accuracy:0.9150\n",
      "epoch:19 train_loss:0.1439 \n",
      "val_loss:0.2688 val_accuracy:0.9120\n",
      "epoch:20 train_loss:0.0564 \n",
      "val_loss:0.2662 val_accuracy:0.9170\n",
      "test_loss: 0.266207665205 test_accuracy: 0.916999995708\n"
     ]
    },
    {
     "data": {
      "image/png": "[encoded data removed]",
      "text/plain": [
       "<matplotlib.figure.Figure at 0x7f314b345510>"
      ]
     },
     "metadata": {},
     "output_type": "display_data"
    }
   ],
   "source": [
    "def main():\n",
    "    # Load data\n",
    "    train, test = get_mnist(n_dim=3)\n",
    "    \n",
    "    # Initialize iterators\n",
    "    train_iter = iterators.SerialIterator(train, batch_size=32, shuffle=True)\n",
    "    val_iter = iterators.SerialIterator(test, batch_size=100, repeat=False, shuffle=False)\n",
    "\n",
    "    # Define model\n",
    "    model = SmallConv(10)\n",
    "    optimizer = optimizers.SGD()\n",
    "    optimizer.setup(model)\n",
    "\n",
    "    training_losses, validation_losses = run(train_iter, val_iter, test, model, optimizer, 20)\n",
    "    \n",
    "    plt.plot(training_losses, label='Training loss')\n",
    "    plt.plot(validation_losses, label='Validation loss')\n",
    "    plt.legend()\n",
    "\n",
    "if __name__ == \"__main__\":\n",
    "    main()"
   ]
  },
  {
   "cell_type": "markdown",
   "metadata": {},
   "source": [
    "## Results\n",
    "Todo, also depends on results from question 1"
   ]
  },
  {
   "cell_type": "markdown",
   "metadata": {},
   "source": [
    "### Sources\n",
    "Chainer: Example: Multi-layer Perceptron on MNIST\n",
    "https://docs.chainer.org/en/stable/tutorial/basic.html#example-multi-layer-perceptron-on-mnist\n",
    "\n",
    "Chainer: Write a training loop\n",
    "https://docs.chainer.org/en/stable/tutorial/train_loop.html#write-a-training-loop\n",
    "\n",
    "Convolutional Network for Visual Recognition Tasks\n",
    "https://docs.chainer.org/en/stable/tutorial/convnet.html"
   ]
  }
 ],
 "metadata": {
  "kernelspec": {
   "display_name": "Python 2",
   "language": "python",
   "name": "python2"
  },
  "language_info": {
   "codemirror_mode": {
    "name": "ipython",
    "version": 2
   },
   "file_extension": ".py",
   "mimetype": "text/x-python",
   "name": "python",
   "nbconvert_exporter": "python",
   "pygments_lexer": "ipython2",
   "version": "2.7.12"
  }
 },
 "nbformat": 4,
 "nbformat_minor": 0
}
