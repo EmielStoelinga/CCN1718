{
 "cells": [
  {
   "cell_type": "code",
   "execution_count": 1,
   "metadata": {
    "collapsed": false
   },
   "outputs": [],
   "source": [
    "%matplotlib inline\n",
    "\n",
    "import numpy as np\n",
    "import chainer\n",
    "from chainer import cuda, Function, gradient_check, report, training, utils, Variable\n",
    "from chainer import datasets, iterators, optimizers, serializers\n",
    "from chainer import Link, Chain, ChainList\n",
    "import chainer.functions as F\n",
    "import chainer.links as L\n",
    "from chainer.training import extensions\n",
    "from chainer.dataset import concat_examples\n",
    "from chainer.datasets import TupleDataset\n",
    "from chainer.functions.evaluation import accuracy\n",
    "from chainer.functions.loss import softmax_cross_entropy\n",
    "from chainer import link\n",
    "from chainer import reporter\n",
    "\n",
    "import matplotlib.pyplot as plt\n",
    "\n",
    "global HIDDEN_UNITS\n",
    "HIDDEN_UNITS = 3"
   ]
  },
  {
   "cell_type": "code",
   "execution_count": 2,
   "metadata": {
    "collapsed": false
   },
   "outputs": [],
   "source": [
    "# create toy data - compute sum of the previous and current input\n",
    "def create_data(n=3000):\n",
    "\n",
    "    X = np.random.rand(n,1).astype('float32')\n",
    "    T = np.sum(np.hstack((X[0:-1],X[1:])),axis=1)\n",
    "    T = np.hstack([0, T[0:]]).astype('float32')\n",
    "    T = T.reshape([n,1])\n",
    "\n",
    "    return TupleDataset(X, T)"
   ]
  },
  {
   "cell_type": "code",
   "execution_count": 83,
   "metadata": {
    "collapsed": false
   },
   "outputs": [],
   "source": [
    "class RNN(Chain):\n",
    "    def __init__(self):\n",
    "        super(RNN, self).__init__()\n",
    "        with self.init_scope():\n",
    "            self.l1 = L.LSTM(None, HIDDEN_UNITS)\n",
    "            self.out = L.Linear(None, 1)\n",
    "            \n",
    "    def reset_state(self):\n",
    "        self.l1.reset_state()\n",
    "        \n",
    "    def __call__(self, x):\n",
    "        h1 = self.l1(x)\n",
    "        y = self.out(h1)\n",
    "        return y"
   ]
  },
  {
   "cell_type": "code",
   "execution_count": 86,
   "metadata": {
    "collapsed": false
   },
   "outputs": [],
   "source": [
    "class Regressor(link.Chain):\n",
    "\n",
    "    compute_accuracy = False\n",
    "\n",
    "    def __init__(self, predictor,\n",
    "                 lossfun=softmax_cross_entropy.softmax_cross_entropy,\n",
    "                 accfun=accuracy.accuracy,\n",
    "                 label_key=-1):\n",
    "        if not (isinstance(label_key, (int, str))):\n",
    "            raise TypeError('label_key must be int or str, but is %s' %\n",
    "                            type(label_key))\n",
    "\n",
    "        super(Regressor, self).__init__()\n",
    "        self.lossfun = lossfun\n",
    "        self.accfun = accfun\n",
    "        self.y = None\n",
    "        self.loss = None\n",
    "        self.accuracy = None\n",
    "        self.label_key = label_key\n",
    "\n",
    "        with self.init_scope():\n",
    "            self.predictor = predictor\n",
    "\n",
    "    def __call__(self, *args, **kwargs):\n",
    "\n",
    "        if isinstance(self.label_key, int):\n",
    "            if not (-len(args) <= self.label_key < len(args)):\n",
    "                msg = 'Label key %d is out of bounds' % self.label_key\n",
    "                raise ValueError(msg)\n",
    "            t = args[self.label_key]\n",
    "            if self.label_key == -1:\n",
    "                args = args[:-1]\n",
    "            else:\n",
    "                args = args[:self.label_key] + args[self.label_key + 1:]\n",
    "        elif isinstance(self.label_key, str):\n",
    "            if self.label_key not in kwargs:\n",
    "                msg = 'Label key \"%s\" is not found' % self.label_key\n",
    "                raise ValueError(msg)\n",
    "            t = kwargs[self.label_key]\n",
    "            del kwargs[self.label_key]\n",
    "\n",
    "        self.y = None\n",
    "        self.loss = None\n",
    "        self.accuracy = None\n",
    "        self.y = self.predictor(*args, **kwargs)\n",
    "        self.loss = self.lossfun(self.y, t)\n",
    "        reporter.report({'loss': self.loss}, self)\n",
    "        return self.loss"
   ]
  },
  {
   "cell_type": "code",
   "execution_count": 85,
   "metadata": {
    "collapsed": false
   },
   "outputs": [],
   "source": [
    "class Iterator():\n",
    "\n",
    "    def __init__(self, data):\n",
    "        self.data = data\n",
    "        self.done = False\n",
    "        self.count = 0\n",
    "        \n",
    "    def next_batch(self):\n",
    "        # go on\n",
    "        if not self.is_done():\n",
    "            number = np.array([[self.data[self.count][0]]])\n",
    "            label = np.array([[self.data[self.count][1]]])\n",
    "            self.count += 1\n",
    "            return number, label\n",
    "                    \n",
    "    def is_done(self):\n",
    "        return self.count == len(self.data)-1"
   ]
  },
  {
   "cell_type": "code",
   "execution_count": 78,
   "metadata": {
    "collapsed": true
   },
   "outputs": [],
   "source": [
    "def compute_loss(data, regressor):\n",
    "    loss = 0\n",
    "    losses = []\n",
    "    for row in data:\n",
    "        number = np.array([row[0]])\n",
    "        label = np.array([row[1]])\n",
    "        add_loss = regressor(number, label)\n",
    "        loss += add_loss\n",
    "        losses.append(loss.data)\n",
    "    return loss, losses"
   ]
  },
  {
   "cell_type": "code",
   "execution_count": 115,
   "metadata": {
    "collapsed": true
   },
   "outputs": [],
   "source": [
    "def compute_predictions(data, model):\n",
    "    preds = []\n",
    "    for row in data:\n",
    "        pred = model(np.array([[row[0]]])).data\n",
    "        preds.append(pred[0][0])\n",
    "    return preds"
   ]
  },
  {
   "cell_type": "code",
   "execution_count": 140,
   "metadata": {
    "collapsed": true
   },
   "outputs": [],
   "source": [
    "def get_labels(data):\n",
    "    labels = []\n",
    "    for row in data:\n",
    "        label = row[0][0]\n",
    "        labels.append(label)\n",
    "    return labels"
   ]
  },
  {
   "cell_type": "code",
   "execution_count": 141,
   "metadata": {
    "collapsed": true
   },
   "outputs": [],
   "source": [
    "def run(train_iter, val_iter, test_data, network, regressor, optimizer, max_epoch):\n",
    "    training_losses = []\n",
    "    validation_losses = []\n",
    "    \n",
    "    mini_batch_losses = []\n",
    "\n",
    "    while not train_iter.is_done():\n",
    "        # Get next mini-batch\n",
    "        data, label = train_iter.next_batch()\n",
    "        #image_train, target_train = concat_examples(batch)\n",
    "        \n",
    "        # Prediction\n",
    "        print(\"make pred\")\n",
    "        prediction_train = network(data)\n",
    "        \n",
    "        # Reset state of the network\n",
    "        print(\"reset\")\n",
    "        network.reset_state()\n",
    "        regressor.cleargrads()\n",
    "\n",
    "        # Compute loss\n",
    "        print(\"make loss\")\n",
    "        loss = regressor(prediction_train, label)\n",
    "        mini_batch_losses.append(loss.data)\n",
    "\n",
    "        # Compute gradients\n",
    "        print(\"clear grads\")\n",
    "        loss.backward()\n",
    "\n",
    "        # Update variables\n",
    "        optimizer.update()\n",
    "\n",
    "        \n",
    "\n",
    "    # Predict full test set\n",
    "    image_test, target_test = concat_examples(test_data)\n",
    "    # Forward test data\n",
    "    prediction_test = network(image_test)\n",
    "    # Calculate loss and accuracy\n",
    "    loss_test = regressor(prediction_test, target_test)\n",
    "\n",
    "    print('test_loss: ' + str(loss_test.data))\n",
    "    return training_losses, validation_losses"
   ]
  },
  {
   "cell_type": "code",
   "execution_count": 142,
   "metadata": {
    "collapsed": true
   },
   "outputs": [],
   "source": [
    "def run2(network, regressor, optimizer, train_data, test_data):\n",
    "    network.reset_state()\n",
    "    regressor.cleargrads()\n",
    "\n",
    "    loss_train, losses_train = compute_loss(train_data, regressor)\n",
    "    print('training_loss: ' + str(loss_train.data))\n",
    "    \n",
    "    loss_train.backward()\n",
    "    optimizer.update()\n",
    "    \n",
    "    # Calculate loss and accuracy\n",
    "    network.reset_state()\n",
    "    regressor.cleargrads()\n",
    "    loss_test, losses_test = compute_loss(test_data, regressor)\n",
    "\n",
    "    print('test_loss: ' + str(loss_test.data))\n",
    "    return losses_train, losses_test"
   ]
  },
  {
   "cell_type": "code",
   "execution_count": 143,
   "metadata": {
    "collapsed": false
   },
   "outputs": [
    {
     "name": "stdout",
     "output_type": "stream",
     "text": [
      "training_loss: 5260.26367188\n",
      "test_loss: 37341916.0\n"
     ]
    },
    {
     "data": {
      "image/png": "[encoded data removed]",
      "text/plain": [
       "<matplotlib.figure.Figure at 0x7f3ee0c1c890>"
      ]
     },
     "metadata": {},
     "output_type": "display_data"
    },
    {
     "data": {
      "image/png": "[encoded data removed]",
      "text/plain": [
       "<matplotlib.figure.Figure at 0x7f3ee1768150>"
      ]
     },
     "metadata": {},
     "output_type": "display_data"
    }
   ],
   "source": [
    "def main():\n",
    "    # Create data\n",
    "    train_data = create_data()\n",
    "    test_data = create_data()\n",
    "\n",
    "    # Define model\n",
    "    network = RNN()\n",
    "    regressor = Regressor(network, F.mean_squared_error)\n",
    "    optimizer = optimizers.SGD()\n",
    "    optimizer.setup(regressor)\n",
    "    \n",
    "    losses_train, losses_test = run2(network, regressor, optimizer, train_data, test_data)\n",
    "    \n",
    "    plt.figure(1)\n",
    "    plt.plot(losses_train, label='Training loss')\n",
    "    plt.plot(losses_test, label='Validation loss')\n",
    "    plt.legend()\n",
    "    \n",
    "    plt.figure(2)\n",
    "    preds100 = compute_predictions(test_data[:100], network)\n",
    "    labels100 = get_labels(test_data[:100])\n",
    "    plt.plot(preds100, label=\"Predictions\")\n",
    "    plt.plot(labels100, label=\"Labels\")\n",
    "    plt.legend()\n",
    "\n",
    "if __name__ == \"__main__\":\n",
    "    main()"
   ]
  },
  {
   "cell_type": "code",
   "execution_count": 40,
   "metadata": {
    "collapsed": false
   },
   "outputs": [
    {
     "data": {
      "text/plain": [
       "array([ 0.78321761], dtype=float32)"
      ]
     },
     "execution_count": 40,
     "metadata": {},
     "output_type": "execute_result"
    }
   ],
   "source": [
    "train = create_data()\n",
    "train[2999][0]"
   ]
  },
  {
   "cell_type": "markdown",
   "metadata": {
    "collapsed": true
   },
   "source": [
    "### Sources\n",
    "https://docs.chainer.org/en/stable/tutorial/recurrentnet.html"
   ]
  },
  {
   "cell_type": "code",
   "execution_count": null,
   "metadata": {
    "collapsed": true
   },
   "outputs": [],
   "source": []
  }
 ],
 "metadata": {
  "kernelspec": {
   "display_name": "Python 2",
   "language": "python",
   "name": "python2"
  },
  "language_info": {
   "codemirror_mode": {
    "name": "ipython",
    "version": 2
   },
   "file_extension": ".py",
   "mimetype": "text/x-python",
   "name": "python",
   "nbconvert_exporter": "python",
   "pygments_lexer": "ipython2",
   "version": "2.7.12"
  }
 },
 "nbformat": 4,
 "nbformat_minor": 0
}
