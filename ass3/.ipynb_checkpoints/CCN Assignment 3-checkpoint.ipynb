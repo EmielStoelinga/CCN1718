{
 "cells": [
  {
   "cell_type": "code",
   "execution_count": 62,
   "metadata": {
    "collapsed": false
   },
   "outputs": [],
   "source": [
    "%matplotlib inline\n",
    "\n",
    "import numpy as np\n",
    "import chainer\n",
    "from chainer import cuda, Function, gradient_check, report, training, utils, Variable\n",
    "from chainer import datasets, iterators, optimizers, serializers\n",
    "from chainer import Link, Chain, ChainList\n",
    "import chainer.functions as F\n",
    "import chainer.links as L\n",
    "from chainer.training import extensions\n",
    "from chainer.dataset import concat_examples\n",
    "from chainer.datasets import TupleDataset\n",
    "\n",
    "import matplotlib.pyplot as plt\n",
    "\n",
    "global HIDDEN_UNITS\n",
    "HIDDEN_UNITS = 3"
   ]
  },
  {
   "cell_type": "code",
   "execution_count": 67,
   "metadata": {
    "collapsed": false
   },
   "outputs": [],
   "source": [
    "# create toy data - compute sum of the previous and current input\n",
    "def create_data(n=3000):\n",
    "\n",
    "    X = np.random.rand(n,1).astype('float32')\n",
    "    T = np.sum(np.hstack((X[0:-1],X[1:])),axis=1)\n",
    "    T = np.hstack([0, T[0:]]).astype('float32')\n",
    "    T = T.reshape([n,1])\n",
    "\n",
    "    return TupleDataset(X, T)"
   ]
  },
  {
   "cell_type": "code",
   "execution_count": 68,
   "metadata": {
    "collapsed": false
   },
   "outputs": [],
   "source": [
    "class RNN(Chain):\n",
    "    def __init__(self):\n",
    "        super(RNN, self).__init__()\n",
    "        with self.init_scope():\n",
    "            self.l1 = L.LSTM(None, HIDDEN_UNITS)\n",
    "            self.out = L.Linear(HIDDEN_UNITS, 1)\n",
    "            \n",
    "    def __call__(self, x):\n",
    "        h1 = self.l1(x)\n",
    "        y = self.out(h1)\n",
    "        return y"
   ]
  },
  {
   "cell_type": "code",
   "execution_count": 69,
   "metadata": {
    "collapsed": false
   },
   "outputs": [
    {
     "name": "stdout",
     "output_type": "stream",
     "text": [
      "[[ 0.87997663]\n",
      " [ 0.11360273]\n",
      " [ 0.98734009]\n",
      " ..., \n",
      " [ 0.63440347]\n",
      " [ 0.04962728]\n",
      " [ 0.33222422]]\n",
      "[[ 0.        ]\n",
      " [ 0.99357939]\n",
      " [ 1.10094285]\n",
      " ..., \n",
      " [ 0.94505721]\n",
      " [ 0.68403077]\n",
      " [ 0.38185149]]\n",
      "3000\n",
      "3000\n",
      "[[ 0.65239382]\n",
      " [ 0.54007316]\n",
      " [ 0.25452092]\n",
      " ..., \n",
      " [ 0.37505156]\n",
      " [ 0.70770723]\n",
      " [ 0.76447833]]\n",
      "[[ 0.        ]\n",
      " [ 1.19246697]\n",
      " [ 0.79459405]\n",
      " ..., \n",
      " [ 0.77999294]\n",
      " [ 1.08275878]\n",
      " [ 1.47218561]]\n",
      "3000\n",
      "3000\n"
     ]
    }
   ],
   "source": [
    "def main():\n",
    "    # Create data\n",
    "    train = create_data()\n",
    "    test = create_data()\n",
    "    \n",
    "    # Initialize iterators\n",
    "    train_iter = iterators.SerialIterator(train, batch_size=16, shuffle=False, repeat=False)\n",
    "    val_iter = iterators.SerialIterator(test, batch_size=16, repeat=False, shuffle=False)\n",
    "\n",
    "    # Define model\n",
    "    model = RNN()\n",
    "    optimizer = optimizers.SGD()\n",
    "    optimizer.setup(model)\n",
    "    \n",
    "#     Define regressor and use absulute mean square error as loss function\n",
    "\n",
    "    training_losses, validation_losses = run(train_iter, val_iter, test, model, optimizer, 20)\n",
    "    \n",
    "    plt.plot(training_losses, label='Training loss')\n",
    "    plt.plot(validation_losses, label='Validation loss')\n",
    "    plt.legend()\n",
    "\n",
    "if __name__ == \"__main__\":\n",
    "    main()"
   ]
  },
  {
   "cell_type": "code",
   "execution_count": null,
   "metadata": {
    "collapsed": true
   },
   "outputs": [],
   "source": []
  }
 ],
 "metadata": {
  "kernelspec": {
   "display_name": "Python 2",
   "language": "python",
   "name": "python2"
  },
  "language_info": {
   "codemirror_mode": {
    "name": "ipython",
    "version": 2
   },
   "file_extension": ".py",
   "mimetype": "text/x-python",
   "name": "python",
   "nbconvert_exporter": "python",
   "pygments_lexer": "ipython2",
   "version": "2.7.12"
  }
 },
 "nbformat": 4,
 "nbformat_minor": 0
}
