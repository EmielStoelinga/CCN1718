{
 "cells": [
  {
   "cell_type": "markdown",
   "metadata": {},
   "source": [
    "# CCN Assignment 5: Reinforcement Learning\n",
    "By: Luca Parolo & Emiel Stoelinga\n",
    "\n",
    "In the current assignment, several reinforcement learning algorithms will be examined and implemented in a simple environment."
   ]
  },
  {
   "cell_type": "markdown",
   "metadata": {},
   "source": [
    "First basic libraries are imported."
   ]
  },
  {
   "cell_type": "code",
   "execution_count": 154,
   "metadata": {
    "collapsed": true
   },
   "outputs": [],
   "source": [
    "%matplotlib inline\n",
    "\n",
    "import numpy as np\n",
    "import pandas as pd\n",
    "import matplotlib.pyplot as plt\n",
    "\n",
    "from my_env import EvidenceEnv"
   ]
  },
  {
   "cell_type": "markdown",
   "metadata": {},
   "source": [
    "### Assignment 1\n",
    "First, an agent is implemented which performs random actions given the observations."
   ]
  },
  {
   "cell_type": "code",
   "execution_count": 139,
   "metadata": {
    "collapsed": true
   },
   "outputs": [],
   "source": [
    "class RandomAgent(object):\n",
    "    def __init__(self, env):\n",
    "        \"\"\"\n",
    "        Args:\n",
    "        env: an environment\n",
    "        \"\"\"\n",
    "        self.env = env\n",
    "\n",
    "    def act(self, observation):\n",
    "        \"\"\"\n",
    "        Act based on observation and train agent on cumulated reward (return)\n",
    "        :param observation: new observation\n",
    "        :param reward: reward gained from previous action; None indicates no reward because of initial state\n",
    "        :return: action (Variable)\n",
    "        \"\"\"\n",
    "#         print(observation)\n",
    "        action = np.random.choice(self.env.n_action)\n",
    "#         print(action)\n",
    "        return action\n",
    "\n",
    "    def train(self, a, old_obs, r, new_obs):\n",
    "        \"\"\"\n",
    "        :param a: action\n",
    "        :param old_obs: old observation\n",
    "        :param r: reward\n",
    "        :param new_obs: new observation\n",
    "        :return:\n",
    "        \"\"\"\n",
    "        pass"
   ]
  },
  {
   "cell_type": "code",
   "execution_count": 140,
   "metadata": {
    "collapsed": true
   },
   "outputs": [],
   "source": [
    "def run(env, agent, n_iter):\n",
    "    # reset environment and agent\n",
    "    obs = env.reset()\n",
    "    reward = None\n",
    "    done = False\n",
    "    R = []\n",
    "    for step in range(n_iter):\n",
    "        env.render()\n",
    "        action = agent.act(obs)\n",
    "        _obs, reward, done, _ = env.step(action)\n",
    "        agent.train(action, obs, reward, _obs)\n",
    "        obs = _obs\n",
    "        R.append(reward)\n",
    "        \n",
    "    return R"
   ]
  },
  {
   "cell_type": "code",
   "execution_count": 151,
   "metadata": {
    "collapsed": false
   },
   "outputs": [
    {
     "data": {
      "text/plain": [
       "[<matplotlib.lines.Line2D at 0x7fb5e102d9d0>]"
      ]
     },
     "execution_count": 151,
     "metadata": {},
     "output_type": "execute_result"
    },
    {
     "data": {
      "image/png": "[encoded data removed]",
      "text/plain": [
       "<matplotlib.figure.Figure at 0x7fb5e15d4050>"
      ]
     },
     "metadata": {},
     "output_type": "display_data"
    }
   ],
   "source": [
    "# Number of iterations\n",
    "n_iter = 1000\n",
    "# environment specs\n",
    "env = EvidenceEnv(n=2, p=0.95)\n",
    "# define agent\n",
    "rndm_agent = RandomAgent(env)\n",
    "\n",
    "reward = run(env, rndm_agent, n_iter)\n",
    "reward_accumulated = np.cumsum(reward)\n",
    "\n",
    "plt.figure(1)\n",
    "plt.plot(reward_accumulated)    "
   ]
  },
  {
   "cell_type": "markdown",
   "metadata": {},
   "source": [
    "### Assignment 2: Q-learning\n",
    "In the second part of the assignment, a q-learning agent is implemented which predicts the action to chose based on observations and predicted reward."
   ]
  },
  {
   "cell_type": "code",
   "execution_count": 166,
   "metadata": {
    "collapsed": true
   },
   "outputs": [],
   "source": [
    "class QLearnAgent(object):\n",
    "    def __init__(self, env, alpha, lamb):\n",
    "        self.env = env\n",
    "        n_inputs = env.n_input\n",
    "        n_actions = env.n_action\n",
    "        self.q_table = np.zeros((2**n_inputs, n_actions))\n",
    "        \n",
    "        self.alpha = alpha\n",
    "        self.lamb = lamb\n",
    "        \n",
    "    def act(self, observation):\n",
    "#         Determine the index of the observation\n",
    "        idx = self.env.asint(observation)\n",
    "#         Determine the action with the maximum q-value for the\n",
    "#         current observation\n",
    "        action = np.argmax(self.q_table[idx])\n",
    "        return action\n",
    "    \n",
    "    def train(self, a, old_obs, r, new_obs):\n",
    "#         Determine the index of the observations\n",
    "        old_idx = self.env.asint(old_obs)\n",
    "        new_idx = self.env.asint(new_obs)\n",
    "#         Return the maximum q-value of the new observation \n",
    "        fut_q = np.amax(self.q_table[new_idx])\n",
    "        \n",
    "#         Compute new q-values using the Bellman equation\n",
    "        self.q_table[old_idx][a] = self.q_table[old_idx][a]+self.alpha*(r+self.lamb*fut_q-self.q_table[old_idx][a])"
   ]
  },
  {
   "cell_type": "code",
   "execution_count": 172,
   "metadata": {
    "collapsed": false
   },
   "outputs": [
    {
     "name": "stdout",
     "output_type": "stream",
     "text": [
      "Table of start q-values\n",
      "       Action 0  Action 1\n",
      "[0,0]       0.0       0.0\n",
      "[0,1]       0.0       0.0\n",
      "[1,0]       0.0       0.0\n",
      "[1,1]       0.0       0.0\n",
      "Table of final q-values\n",
      "       Action 0  Action 1\n",
      "[0,0]  8.758082  0.000000\n",
      "[0,1]  7.468513  0.000000\n",
      "[1,0] -0.002816  8.879815\n",
      "[1,1] -0.800000  8.669150\n"
     ]
    },
    {
     "data": {
      "image/png": "[encoded data removed]",
      "text/plain": [
       "<matplotlib.figure.Figure at 0x7fb5d08a2290>"
      ]
     },
     "metadata": {},
     "output_type": "display_data"
    }
   ],
   "source": [
    "qlearn_agent = QLearnAgent(env, .8, .9)\n",
    "old_qtable = pd.DataFrame(qlearn_agent.q_table, index=(\"[0,0]\",\"[0,1]\",\"[1,0]\", \"[1,1]\"), columns=(\"Action 0\", \"Action 1\"))\n",
    "print(\"Table of start q-values\")\n",
    "print(old_qtable)\n",
    "\n",
    "reward = run(env, qlearn_agent, n_iter)\n",
    "reward_accumulated = np.cumsum(reward)\n",
    "\n",
    "plt.figure(2)\n",
    "plt.plot(reward_accumulated)\n",
    "\n",
    "new_qtable = pd.DataFrame(qlearn_agent.q_table, index=(\"[0,0]\",\"[0,1]\",\"[1,0]\", \"[1,1]\"), columns=(\"Action 0\", \"Action 1\"))\n",
    "\n",
    "print(\"Table of final q-values\")\n",
    "print(new_qtable)"
   ]
  },
  {
   "cell_type": "code",
   "execution_count": null,
   "metadata": {
    "collapsed": true
   },
   "outputs": [],
   "source": []
  },
  {
   "cell_type": "code",
   "execution_count": null,
   "metadata": {
    "collapsed": true
   },
   "outputs": [],
   "source": []
  },
  {
   "cell_type": "code",
   "execution_count": null,
   "metadata": {
    "collapsed": true
   },
   "outputs": [],
   "source": []
  }
 ],
 "metadata": {
  "kernelspec": {
   "display_name": "Python 2",
   "language": "python",
   "name": "python2"
  },
  "language_info": {
   "codemirror_mode": {
    "name": "ipython",
    "version": 2
   },
   "file_extension": ".py",
   "mimetype": "text/x-python",
   "name": "python",
   "nbconvert_exporter": "python",
   "pygments_lexer": "ipython2",
   "version": "2.7.12"
  }
 },
 "nbformat": 4,
 "nbformat_minor": 0
}
