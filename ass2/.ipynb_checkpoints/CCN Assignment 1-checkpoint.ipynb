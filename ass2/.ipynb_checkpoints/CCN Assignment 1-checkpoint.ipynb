{
 "cells": [
  {
   "cell_type": "markdown",
   "metadata": {},
   "source": [
    "# Computational Cognitive Neuroscience: assignment 1\n",
    "\n",
    "By: Emiel Stoelinga, s4837584\n",
    "\n",
    "In this assignment, a multilayer perceptron is trained to predict handwritten digits from the MNIST dataset. The network should contain one hidden layer with 10 hidden units. The output of the network is a prediction of which digit the input image represents."
   ]
  },
  {
   "cell_type": "markdown",
   "metadata": {},
   "source": [
    "First the required libraries are imported."
   ]
  },
  {
   "cell_type": "code",
   "execution_count": 26,
   "metadata": {
    "collapsed": false
   },
   "outputs": [],
   "source": [
    "%matplotlib inline\n",
    "\n",
    "import numpy as np\n",
    "import chainer\n",
    "from chainer import cuda, Function, gradient_check, report, training, utils, Variable\n",
    "from chainer import datasets, iterators, optimizers, serializers\n",
    "from chainer import Link, Chain, ChainList\n",
    "import chainer.functions as F\n",
    "import chainer.links as L\n",
    "from chainer.training import extensions\n",
    "from chainer.dataset import concat_examples\n",
    "\n",
    "from utils import get_mnist\n",
    "\n",
    "import matplotlib.pyplot as plt"
   ]
  },
  {
   "cell_type": "markdown",
   "metadata": {},
   "source": [
    "Then, a class is constructed which represents the network. The network consist of an input layer, a hidden layer and an output layer."
   ]
  },
  {
   "cell_type": "code",
   "execution_count": 27,
   "metadata": {
    "collapsed": true
   },
   "outputs": [],
   "source": [
    "class MLP(Chain):\n",
    "    def __init__(self, n_units, n_out):\n",
    "        super(MLP, self).__init__()\n",
    "        with self.init_scope():\n",
    "            self.l1 = L.Linear(None, n_units)\n",
    "            self.l2 = L.Linear(None, n_units)\n",
    "            self.l3 = L.Linear(None, n_out)\n",
    "\n",
    "    def __call__(self, x):\n",
    "        h1 = F.relu(self.l1(x))\n",
    "        h2 = F.relu(self.l2(h1))\n",
    "        y = self.l3(h2)\n",
    "        return y"
   ]
  },
  {
   "cell_type": "markdown",
   "metadata": {},
   "source": [
    "In order to train the network, a training function is built. For every epoch, the function forwards a new mini-batch through the network, computes the loss and backwards the loss through the network such that variables can be updated. Furthermore, the network is evaluated by forwarding the test set of 100 images through it.\n",
    "\n",
    "For both operations, the loss is printed and stored, such that it can be plotted after training. "
   ]
  },
  {
   "cell_type": "code",
   "execution_count": 28,
   "metadata": {
    "collapsed": false
   },
   "outputs": [],
   "source": [
    "def run(train_iter, val_iter, test_data, model, optimizer, max_epoch):\n",
    "    training_losses = []\n",
    "    validation_losses = []\n",
    "\n",
    "    while train_iter.epoch < max_epoch:\n",
    "        # Get next mini-batch\n",
    "        batch = train_iter.next()\n",
    "        image_train, target_train = concat_examples(batch)\n",
    "\n",
    "        # Prediction\n",
    "        prediction_train = model(image_train)\n",
    "\n",
    "        # Compute loss\n",
    "        loss = F.softmax_cross_entropy(prediction_train, target_train)\n",
    "\n",
    "        # Compute gradients\n",
    "        model.cleargrads()\n",
    "        loss.backward()\n",
    "\n",
    "        # Update variables\n",
    "        optimizer.update()\n",
    "\n",
    "        # Check the validation accuracy of prediction after every epoch\n",
    "        if train_iter.is_new_epoch:  # If this iteration is the final iteration of the current epoch\n",
    "\n",
    "            # Display the training loss\n",
    "            print('epoch:{:02d} train_loss:{:.04f} '.format(train_iter.epoch, float(loss.data)))\n",
    "            training_losses.append(float(loss.data))\n",
    "\n",
    "            val_losses = []\n",
    "            val_accuracies = []\n",
    "            while True:\n",
    "                val_batch = val_iter.next()\n",
    "                image_val, target_val = concat_examples(val_batch)\n",
    "\n",
    "                # Forward the validation data\n",
    "                prediction_val = model(image_val)\n",
    "\n",
    "                # Calculate the loss\n",
    "                loss_val = F.softmax_cross_entropy(prediction_val, target_val)\n",
    "                val_losses.append(loss_val.data)\n",
    "\n",
    "                # Calculate the accuracy\n",
    "                accuracy = F.accuracy(prediction_val, target_val)\n",
    "                val_accuracies.append(accuracy.data)\n",
    "\n",
    "                if val_iter.is_new_epoch:\n",
    "                    val_iter.epoch = 0\n",
    "                    val_iter.current_position = 0\n",
    "                    val_iter.is_new_epoch = False\n",
    "                    val_iter._pushed_position = None\n",
    "\n",
    "                    validation_losses.append(np.mean(val_losses))\n",
    "                    break\n",
    "\n",
    "            print('val_loss:{:.04f} val_accuracy:{:.04f}'.format(np.mean(val_losses), np.mean(val_accuracies)))\n",
    "\n",
    "    # Predict full test set\n",
    "    image_test, target_test = concat_examples(test_data)\n",
    "    # Forward test data\n",
    "    prediction_test = model(image_test)\n",
    "    # Calculate loss and accuracy\n",
    "    loss_test = F.softmax_cross_entropy(prediction_test, target_test)\n",
    "    accuracy_test = F.accuracy(prediction_test, target_test)\n",
    "\n",
    "    print('test_loss: ' + str(loss_test.data) + ' test_accuracy: ' + str(accuracy_test.data))\n",
    "    return training_losses, validation_losses"
   ]
  },
  {
   "cell_type": "markdown",
   "metadata": {},
   "source": [
    "The full proces is called in the main function. First, the data is downloaded. Then, iterators are constructed which iterate over the data for every epoch. Then the model and the optimizer are constructed and last, the model is trained. "
   ]
  },
  {
   "cell_type": "code",
   "execution_count": 30,
   "metadata": {
    "collapsed": false
   },
   "outputs": [
    {
     "name": "stdout",
     "output_type": "stream",
     "text": [
      "epoch:01 train_loss:2.2988 \n",
      "val_loss:2.2924 val_accuracy:0.0950\n",
      "epoch:02 train_loss:2.2552 \n",
      "val_loss:2.2704 val_accuracy:0.1110\n",
      "epoch:03 train_loss:2.2131 \n",
      "val_loss:2.2396 val_accuracy:0.1280\n",
      "epoch:04 train_loss:2.1506 \n",
      "val_loss:2.2025 val_accuracy:0.1480\n",
      "epoch:05 train_loss:2.1056 \n",
      "val_loss:2.1596 val_accuracy:0.1860\n",
      "epoch:06 train_loss:2.0579 \n",
      "val_loss:2.1112 val_accuracy:0.2420\n",
      "epoch:07 train_loss:1.8977 \n",
      "val_loss:2.0569 val_accuracy:0.2650\n",
      "epoch:08 train_loss:1.9835 \n",
      "val_loss:1.9989 val_accuracy:0.2900\n",
      "epoch:09 train_loss:1.9431 \n",
      "val_loss:1.9361 val_accuracy:0.3220\n",
      "epoch:10 train_loss:1.9977 \n",
      "val_loss:1.8747 val_accuracy:0.3480\n",
      "epoch:11 train_loss:1.6712 \n",
      "val_loss:1.8117 val_accuracy:0.3830\n",
      "epoch:12 train_loss:1.6904 \n",
      "val_loss:1.7486 val_accuracy:0.4010\n",
      "epoch:13 train_loss:1.6213 \n",
      "val_loss:1.6834 val_accuracy:0.4310\n",
      "epoch:14 train_loss:1.3664 \n",
      "val_loss:1.6217 val_accuracy:0.4550\n",
      "epoch:15 train_loss:1.5001 \n",
      "val_loss:1.5601 val_accuracy:0.4760\n",
      "epoch:16 train_loss:1.3038 \n",
      "val_loss:1.4985 val_accuracy:0.5060\n",
      "epoch:17 train_loss:1.2800 \n",
      "val_loss:1.4373 val_accuracy:0.5450\n",
      "epoch:18 train_loss:1.2827 \n",
      "val_loss:1.3819 val_accuracy:0.5700\n",
      "epoch:19 train_loss:1.2172 \n",
      "val_loss:1.3274 val_accuracy:0.5900\n",
      "epoch:20 train_loss:1.1750 \n",
      "val_loss:1.2761 val_accuracy:0.6060\n",
      "test_loss: 1.27612280846 test_accuracy: 0.606000006199\n"
     ]
    },
    {
     "data": {
      "image/png": "[encoded data removed]",
      "text/plain": [
       "<matplotlib.figure.Figure at 0x7fcd6382cb10>"
      ]
     },
     "metadata": {},
     "output_type": "display_data"
    }
   ],
   "source": [
    "def main():\n",
    "    # Load data\n",
    "    train, test = get_mnist()\n",
    "    \n",
    "    # Initialize iterators\n",
    "    train_iter = iterators.SerialIterator(train, batch_size=32, shuffle=True)\n",
    "    val_iter = iterators.SerialIterator(test, batch_size=100, repeat=False, shuffle=False)\n",
    "\n",
    "    # Define model\n",
    "    model = MLP(10, 10)\n",
    "    optimizer = optimizers.SGD()\n",
    "    optimizer.setup(model)\n",
    "\n",
    "    training_losses, validation_losses = run(train_iter, val_iter, test, model, optimizer, 20)\n",
    "    \n",
    "    plt.plot(training_losses, label='Training loss')\n",
    "    plt.plot(validation_losses, label='Validation loss')\n",
    "    plt.legend()\n",
    "\n",
    "if __name__ == \"__main__\":\n",
    "    main()"
   ]
  },
  {
   "cell_type": "markdown",
   "metadata": {},
   "source": [
    "## Results\n",
    "As can be seen in the figure, both the training loss and the validation loss descend. Because the network iterates over only a part of the training set per epoch, bumps occur in the slope of the training loss. Due to the small hills in the training loss during the training process, the weights in the network are additionaly adjusted. That the network is succesfully training can be seen in the descending slope of the validation loss. The longer the network trains, the higher its performance in predicting the digits in the dataset.  "
   ]
  },
  {
   "cell_type": "markdown",
   "metadata": {},
   "source": [
    "### Sources\n",
    "Chainer: Example: Multi-layer Perceptron on MNIST\n",
    "https://docs.chainer.org/en/stable/tutorial/basic.html#example-multi-layer-perceptron-on-mnist\n",
    "\n",
    "Chainer: Write a training loop\n",
    "https://docs.chainer.org/en/stable/tutorial/train_loop.html#write-a-training-loop"
   ]
  }
 ],
 "metadata": {
  "kernelspec": {
   "display_name": "Python 2",
   "language": "python",
   "name": "python2"
  },
  "language_info": {
   "codemirror_mode": {
    "name": "ipython",
    "version": 2
   },
   "file_extension": ".py",
   "mimetype": "text/x-python",
   "name": "python",
   "nbconvert_exporter": "python",
   "pygments_lexer": "ipython2",
   "version": "2.7.12"
  }
 },
 "nbformat": 4,
 "nbformat_minor": 0
}
